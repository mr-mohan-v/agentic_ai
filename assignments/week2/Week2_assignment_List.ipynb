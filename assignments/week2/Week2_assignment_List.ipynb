{
 "cells": [
  {
   "cell_type": "markdown",
   "id": "1d0d283c-d57e-4a6e-8ebc-f95a46007d5e",
   "metadata": {},
   "source": [
    "## Lists Exercises"
   ]
  },
  {
   "cell_type": "code",
   "execution_count": 4,
   "id": "833e8868-f273-4778-a197-999fcd10b3cc",
   "metadata": {},
   "outputs": [
    {
     "name": "stdout",
     "output_type": "stream",
     "text": [
      "[1, 2, 3, 4, 5]\n",
      "5\n"
     ]
    }
   ],
   "source": [
    "'''\n",
    "Exercise 1: List Creation and Length\n",
    "Task:\n",
    "Create a list of 5 integers and print the list. Then, print the length of the list.\n",
    "'''\n",
    "list1 = [1,2,3,4,5]\n",
    "print(list1)\n",
    "print(len(list1))"
   ]
  },
  {
   "cell_type": "code",
   "execution_count": 5,
   "id": "652ddde6-cd34-4f20-a87f-22e73c1f8c8d",
   "metadata": {},
   "outputs": [
    {
     "name": "stdout",
     "output_type": "stream",
     "text": [
      "banana\n",
      "elderberry\n",
      "e\n"
     ]
    }
   ],
   "source": [
    "'''\n",
    "Exercise 2: List Indexing\n",
    "Task:\n",
    "Given the list fruits = ['apple', 'banana', 'cherry', 'date', 'elderberry'], print the second element, the last element, and the first character of the last element.\n",
    "'''\n",
    "fruits = ['apple', 'banana', 'cherry', 'date', 'elderberry']\n",
    "print(fruits[1])\n",
    "print(fruits[-1])\n",
    "print(fruits[-1][0])"
   ]
  },
  {
   "cell_type": "code",
   "execution_count": 10,
   "id": "5b19b74c-c818-4e36-beb4-e573769d3a26",
   "metadata": {},
   "outputs": [
    {
     "name": "stdout",
     "output_type": "stream",
     "text": [
      "[4, 5, 6, 7]\n",
      "[7, 8, 9]\n"
     ]
    }
   ],
   "source": [
    "'''\n",
    "Exercise 3: List Slicing\n",
    "Task:\n",
    "Given the list numbers = [1, 2, 3, 4, 5, 6, 7, 8, 9], extract and print the sublist from the 3rd to the 6th index (inclusive), and then the last 3 elements of the list.\n",
    "'''\n",
    "numbers = [1, 2, 3, 4, 5, 6, 7, 8, 9]\n",
    "numbers1 = numbers[3:7] #considering 1 as 0th index\n",
    "print(numbers1)\n",
    "print(numbers[-3:])"
   ]
  },
  {
   "cell_type": "code",
   "execution_count": 19,
   "id": "d022fcad-d28b-45b8-bbf1-758cf78add06",
   "metadata": {},
   "outputs": [
    {
     "name": "stdout",
     "output_type": "stream",
     "text": [
      "[10, 20, 30]\n",
      "[10, 20, 40, 30]\n"
     ]
    }
   ],
   "source": [
    "'''\n",
    "Exercise 4: Adding Items to a List\n",
    "Task:\n",
    "Create an empty list and add three numbers (10, 20, 30) using the append() method. Then, add a number (40) at the second position using the insert() method.\n",
    "'''\n",
    "list2=[]\n",
    "list2.append(10)\n",
    "list2.append(20)\n",
    "list2.append(30)\n",
    "print(list2)\n",
    "list2.insert(1,40)\n",
    "print(list2)"
   ]
  },
  {
   "cell_type": "code",
   "execution_count": 22,
   "id": "d4164f48-07cf-4272-931f-c68b9867a210",
   "metadata": {},
   "outputs": [
    {
     "name": "stdout",
     "output_type": "stream",
     "text": [
      "[5, 15, 20, 25]\n",
      "[5, 15, 25]\n"
     ]
    }
   ],
   "source": [
    "'''\n",
    "Exercise 5: Removing Items from a List\n",
    "Task:\n",
    "Given the list numbers = [5, 10, 15, 20, 25], remove the second element and then remove the element with value 20.\n",
    "'''\n",
    "numbers = [5, 10, 15, 20, 25]\n",
    "numbers.pop(1)\n",
    "print(numbers)\n",
    "numbers.remove(20)\n",
    "print(numbers)"
   ]
  },
  {
   "cell_type": "code",
   "execution_count": 23,
   "id": "1d3078b4-6ba4-41f8-a48b-62cbfb7b8714",
   "metadata": {},
   "outputs": [
    {
     "name": "stdout",
     "output_type": "stream",
     "text": [
      "True\n",
      "False\n"
     ]
    }
   ],
   "source": [
    "'''\n",
    "Exercise 6: List Membership\n",
    "Task:\n",
    "Given the list colors = ['red', 'green', 'blue', 'yellow'], check if the color 'green' exists in the list and if 'purple' exists in the list. Print the results.\n",
    "'''\n",
    "colors = ['red', 'green', 'blue', 'yellow']\n",
    "print('green' in colors)\n",
    "print('purple' in colors)"
   ]
  },
  {
   "cell_type": "code",
   "execution_count": 26,
   "id": "3178e288-522e-4a12-87ac-5296e67d5a8e",
   "metadata": {},
   "outputs": [
    {
     "name": "stdout",
     "output_type": "stream",
     "text": [
      "['e', 'd', 'c', 'b', 'a']\n"
     ]
    }
   ],
   "source": [
    "''''\n",
    "Exercise 7: Reversing a List\n",
    "Task:\n",
    "Given the list letters = ['a', 'b', 'c', 'd', 'e'], reverse the list and print it.\n",
    "'''\n",
    "letters = ['a', 'b', 'c', 'd', 'e']\n",
    "letters.reverse()\n",
    "print(letters)"
   ]
  },
  {
   "cell_type": "code",
   "execution_count": 29,
   "id": "fa7db219-f37b-470f-84bc-a5375a973909",
   "metadata": {},
   "outputs": [
    {
     "name": "stdout",
     "output_type": "stream",
     "text": [
      "[9, 8, 5, 4, 2, 1]\n"
     ]
    }
   ],
   "source": [
    "'''\n",
    "Exercise 8: Sorting a List\n",
    "Task:\n",
    "Given the list numbers = [8, 1, 4, 9, 2, 5], sort the list in descending order and print it.\n",
    "'''\n",
    "numbers = [8, 1, 4, 9, 2, 5]\n",
    "numbers.sort(reverse=True)\n",
    "print(numbers)"
   ]
  },
  {
   "cell_type": "code",
   "execution_count": 31,
   "id": "d179d092-1074-4580-afc8-357ceb236e51",
   "metadata": {},
   "outputs": [
    {
     "name": "stdout",
     "output_type": "stream",
     "text": [
      "3\n",
      "2\n"
     ]
    }
   ],
   "source": [
    "'''\n",
    "Exercise 9: Counting Occurrences in a List\n",
    "Task:\n",
    "Given the list items = ['apple', 'banana', 'orange', 'apple', 'apple', 'banana'], count the occurrences of 'apple' and 'banana'.\n",
    "'''\n",
    "items = ['apple', 'banana', 'orange', 'apple', 'apple', 'banana']\n",
    "print(items.count('apple'))\n",
    "print(items.count('banana'))"
   ]
  },
  {
   "cell_type": "code",
   "execution_count": 39,
   "id": "1dde2063-e819-4090-8446-ad01157cfb14",
   "metadata": {},
   "outputs": [
    {
     "name": "stdout",
     "output_type": "stream",
     "text": [
      "[0, 4, 16, 36, 64, 100, 144, 196, 256, 324, 400]\n"
     ]
    }
   ],
   "source": [
    "'''\n",
    "Exercise 10: List Comprehension\n",
    "Task:\n",
    "Use list comprehension to create a list of squares of all even numbers from 0 to 20.\n",
    "'''\n",
    "list1 = [i*i for i in range(0,21,2)]\n",
    "print(list1)"
   ]
  }
 ],
 "metadata": {
  "kernelspec": {
   "display_name": "Python 3 (ipykernel)",
   "language": "python",
   "name": "python3"
  },
  "language_info": {
   "codemirror_mode": {
    "name": "ipython",
    "version": 3
   },
   "file_extension": ".py",
   "mimetype": "text/x-python",
   "name": "python",
   "nbconvert_exporter": "python",
   "pygments_lexer": "ipython3",
   "version": "3.13.7"
  }
 },
 "nbformat": 4,
 "nbformat_minor": 5
}
