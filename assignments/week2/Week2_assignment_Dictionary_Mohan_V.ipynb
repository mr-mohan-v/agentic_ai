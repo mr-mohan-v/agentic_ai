{
 "cells": [
  {
   "cell_type": "markdown",
   "id": "1d0d283c-d57e-4a6e-8ebc-f95a46007d5e",
   "metadata": {},
   "source": [
    "## Dictionary Exercises"
   ]
  },
  {
   "cell_type": "code",
   "execution_count": 4,
   "id": "833e8868-f273-4778-a197-999fcd10b3cc",
   "metadata": {},
   "outputs": [
    {
     "name": "stdout",
     "output_type": "stream",
     "text": [
      "{'Name': 'John', 'Age': 21, 'Grade': 'A'}\n"
     ]
    }
   ],
   "source": [
    "'''\n",
    "Dictionary Exercises:\n",
    "\n",
    "Exercise 1: Create a Dictionary\n",
    "Task:\n",
    "Create a dictionary named student_info with the following keys and values:\n",
    "Name: \"John\"\n",
    "Age: 21\n",
    "Grade: \"A\"\n",
    "'''\n",
    "student_info = {'Name': \"John\", 'Age': 21, 'Grade': \"A\"}\n",
    "print(student_info)"
   ]
  },
  {
   "cell_type": "code",
   "execution_count": 6,
   "id": "652ddde6-cd34-4f20-a87f-22e73c1f8c8d",
   "metadata": {},
   "outputs": [
    {
     "name": "stdout",
     "output_type": "stream",
     "text": [
      "21\n",
      "21\n"
     ]
    }
   ],
   "source": [
    "'''\n",
    "Exercise 2: Accessing Dictionary Items\n",
    "Task:\n",
    "Access the value of the key 'Age' in the dictionary student_info = {'Name': 'John', 'Age': 21, 'Grade': 'A'} using both the square bracket notation and the get() method.\n",
    "'''\n",
    "student_info = {'Name': \"John\", 'Age': 21, 'Grade': \"A\"}\n",
    "print(student_info['Age'])\n",
    "print(student_info.get('Age'))"
   ]
  },
  {
   "cell_type": "code",
   "execution_count": 9,
   "id": "5b19b74c-c818-4e36-beb4-e573769d3a26",
   "metadata": {},
   "outputs": [
    {
     "name": "stdout",
     "output_type": "stream",
     "text": [
      "{'Name': 'John', 'Age': 21, 'Grade': 'A', 'City': 'New York'}\n"
     ]
    }
   ],
   "source": [
    "'''\n",
    "Exercise 3: Add New Item to Dictionary\n",
    "Task:\n",
    "Add a new key-value pair 'City': 'New York' to the dictionary student_info.\n",
    "'''\n",
    "student_info['City']='New York'\n",
    "print(student_info)"
   ]
  },
  {
   "cell_type": "code",
   "execution_count": 10,
   "id": "d022fcad-d28b-45b8-bbf1-758cf78add06",
   "metadata": {},
   "outputs": [
    {
     "name": "stdout",
     "output_type": "stream",
     "text": [
      "{'Name': 'John', 'Age': 21, 'Grade': 'A'}\n"
     ]
    }
   ],
   "source": [
    "'''\n",
    "Exercise 4: Remove Item from Dictionary\n",
    "Task:\n",
    "Remove the 'Grade' key from the dictionary student_info using the pop() method.\n",
    "'''\n",
    "student_info.pop('City')\n",
    "print(student_info)"
   ]
  },
  {
   "cell_type": "code",
   "execution_count": 11,
   "id": "d4164f48-07cf-4272-931f-c68b9867a210",
   "metadata": {},
   "outputs": [
    {
     "name": "stdout",
     "output_type": "stream",
     "text": [
      "{'Name': 'John', 'Age': 2, 'Grade': 'A'}\n"
     ]
    }
   ],
   "source": [
    "'''\n",
    "Exercise 5: Update a Dictionary\n",
    "Task:\n",
    "Update the value of the 'Age' key to 22 in the dictionary student_info.\n",
    "'''\n",
    "student_info['Age']=2\n",
    "print(student_info)"
   ]
  },
  {
   "cell_type": "code",
   "execution_count": 12,
   "id": "1d3078b4-6ba4-41f8-a48b-62cbfb7b8714",
   "metadata": {},
   "outputs": [
    {
     "data": {
      "text/plain": [
       "False"
      ]
     },
     "execution_count": 12,
     "metadata": {},
     "output_type": "execute_result"
    }
   ],
   "source": [
    "'''\n",
    "Exercise 6: Check if Key Exists in Dictionary\n",
    "Task:\n",
    "Check if the key 'City' exists in the dictionary student_info.\n",
    "'''\n",
    "'City' in student_info"
   ]
  },
  {
   "cell_type": "code",
   "execution_count": 14,
   "id": "3178e288-522e-4a12-87ac-5296e67d5a8e",
   "metadata": {},
   "outputs": [
    {
     "name": "stdout",
     "output_type": "stream",
     "text": [
      "{'Name': 'Alice', 'Subjects': ['Math', 'Science', 'English']}\n"
     ]
    }
   ],
   "source": [
    "''''\n",
    "Exercise 7: Dictionary with List as Value\n",
    "Task:\n",
    "Create a dictionary with the following key-value pairs:\n",
    "\n",
    "Name: \"Alice\"\n",
    "Subjects: [\"Math\", \"Science\", \"English\"]\n",
    "Print the value of the 'Subjects' key.\n",
    "'''\n",
    "Subjects = dict({'Name': \"Alice\", 'Subjects': [\"Math\", \"Science\", \"English\"]})\n",
    "print(Subjects)"
   ]
  },
  {
   "cell_type": "code",
   "execution_count": 18,
   "id": "fa7db219-f37b-470f-84bc-a5375a973909",
   "metadata": {},
   "outputs": [
    {
     "name": "stdout",
     "output_type": "stream",
     "text": [
      "0 Name\n",
      "1 Age\n",
      "2 Grade\n"
     ]
    }
   ],
   "source": [
    "'''\n",
    "Exercise 8: Iterate Through Dictionary\n",
    "Task:\n",
    "Iterate through the dictionary student_info = {'Name': 'John', 'Age': 21, 'Grade': 'A'} and print each key-value pair.\n",
    "'''\n",
    "student_info = {'Name': 'John', 'Age': 21, 'Grade': 'A'}\n",
    "for (k,v) in enumerate(student_info):\n",
    "    print(k,v)"
   ]
  },
  {
   "cell_type": "code",
   "execution_count": 22,
   "id": "d179d092-1074-4580-afc8-357ceb236e51",
   "metadata": {},
   "outputs": [
    {
     "name": "stdout",
     "output_type": "stream",
     "text": [
      "{1: 1, 2: 4, 3: 9, 4: 16, 5: 25}\n"
     ]
    }
   ],
   "source": [
    "'''\n",
    "Exercise 9: Dictionary Comprehension\n",
    "Task:\n",
    "Using dictionary comprehension, create a dictionary where the keys are numbers from 1 to 5, and the values are the squares of the numbers.\n",
    "'''\n",
    "dict1 = {i:i*i for i in range(1,6)}\n",
    "print(dict1)"
   ]
  },
  {
   "cell_type": "code",
   "execution_count": 33,
   "id": "1dde2063-e819-4090-8446-ad01157cfb14",
   "metadata": {},
   "outputs": [
    {
     "name": "stdout",
     "output_type": "stream",
     "text": [
      "['apple', 'banana', 'apple', 'orange', 'apple', 'banana']\n",
      "{'orange', 'apple', 'banana'}\n",
      "{}\n",
      "{'orange': 1, 'apple': 3, 'banana': 2}\n"
     ]
    }
   ],
   "source": [
    "'''\n",
    "Exercise 10: Word Frequency Using Dictionary\n",
    "Task:\n",
    "Given the string \"apple banana apple orange apple banana\", create a program that counts the frequency of each word using a dictionary.\n",
    "'''\n",
    "fruits = \"apple banana apple orange apple banana\"\n",
    "fruits = fruits.split()\n",
    "print(fruits)\n",
    "fruitsset=set(fruits)\n",
    "print(fruitsset)\n",
    "fruitsdict = dict()\n",
    "print(fruitsdict)\n",
    "for k in fruitsset:\n",
    "    count = 0\n",
    "    for i in fruits:\n",
    "        if i==k:\n",
    "            count +=1\n",
    "    fruitsdict[k] = count\n",
    "print(fruitsdict)"
   ]
  }
 ],
 "metadata": {
  "kernelspec": {
   "display_name": "Python 3 (ipykernel)",
   "language": "python",
   "name": "python3"
  },
  "language_info": {
   "codemirror_mode": {
    "name": "ipython",
    "version": 3
   },
   "file_extension": ".py",
   "mimetype": "text/x-python",
   "name": "python",
   "nbconvert_exporter": "python",
   "pygments_lexer": "ipython3",
   "version": "3.13.7"
  }
 },
 "nbformat": 4,
 "nbformat_minor": 5
}
