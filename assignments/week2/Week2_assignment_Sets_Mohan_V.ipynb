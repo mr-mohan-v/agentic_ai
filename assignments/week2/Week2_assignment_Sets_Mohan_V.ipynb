{
 "cells": [
  {
   "cell_type": "markdown",
   "id": "1d0d283c-d57e-4a6e-8ebc-f95a46007d5e",
   "metadata": {},
   "source": [
    "## Sets Exercises"
   ]
  },
  {
   "cell_type": "code",
   "execution_count": 3,
   "id": "833e8868-f273-4778-a197-999fcd10b3cc",
   "metadata": {},
   "outputs": [
    {
     "name": "stdout",
     "output_type": "stream",
     "text": [
      "{1, 2, 3, 4, 5, 6, 7, 8, 9, 10}\n"
     ]
    }
   ],
   "source": [
    "'''\n",
    "Sets Exercises:\n",
    "\n",
    "Exercise 1: Create a Set\n",
    "Problem:\n",
    "Create a set numbers that contains the numbers from 1 to 10. Print the set and its length.\n",
    "'''\n",
    "set1 = {1,2,3,4,5,6,7,8,9,10}\n",
    "print(set1)"
   ]
  },
  {
   "cell_type": "code",
   "execution_count": 4,
   "id": "652ddde6-cd34-4f20-a87f-22e73c1f8c8d",
   "metadata": {},
   "outputs": [
    {
     "name": "stdout",
     "output_type": "stream",
     "text": [
      "{1, 2, 3, 4, 5}\n"
     ]
    }
   ],
   "source": [
    "'''\n",
    "Exercise 2: Remove Duplicates\n",
    "Problem:\n",
    "You are given a set myset = {1, 2, 2, 3, 4, 5, 5, 5}. Remove the duplicates and print the set.\n",
    "'''\n",
    "myset = {1, 2, 2, 3, 4, 5, 5, 5}\n",
    "print(myset)"
   ]
  },
  {
   "cell_type": "code",
   "execution_count": 7,
   "id": "5b19b74c-c818-4e36-beb4-e573769d3a26",
   "metadata": {},
   "outputs": [
    {
     "name": "stdout",
     "output_type": "stream",
     "text": [
      "True\n"
     ]
    }
   ],
   "source": [
    "'''\n",
    "Exercise 3: Check Membership\n",
    "Problem:\n",
    "Check if the element 3 is present in the set numbers = {1, 2, 3, 4, 5, 6}. Print the result.\n",
    "'''\n",
    "numbers = {1, 2, 3, 4, 5, 6}\n",
    "print(3 in numbers)"
   ]
  },
  {
   "cell_type": "code",
   "execution_count": 10,
   "id": "d022fcad-d28b-45b8-bbf1-758cf78add06",
   "metadata": {},
   "outputs": [
    {
     "name": "stdout",
     "output_type": "stream",
     "text": [
      "{'eight', 'seven', 'one', 'two', 'three'}\n"
     ]
    }
   ],
   "source": [
    "'''\n",
    "Exercise 4: Add Items to a Set\n",
    "Problem:\n",
    "Add the elements 'seven' and 'eight' to the set myset = {'one', 'two', 'three'}. Print the updated set.\n",
    "'''\n",
    "myset = {'one', 'two', 'three'}\n",
    "myset.add('seven')\n",
    "myset.add('eight')\n",
    "print(myset)"
   ]
  },
  {
   "cell_type": "code",
   "execution_count": 11,
   "id": "d4164f48-07cf-4272-931f-c68b9867a210",
   "metadata": {},
   "outputs": [
    {
     "data": {
      "text/plain": [
       "{1, 2, 3, 4, 5, 6}"
      ]
     },
     "execution_count": 11,
     "metadata": {},
     "output_type": "execute_result"
    }
   ],
   "source": [
    "'''\n",
    "Exercise 5: Union of Sets\n",
    "Problem:\n",
    "Create two sets A = {1, 2, 3, 4} and B = {3, 4, 5, 6}. Find and print the union of both sets.\n",
    "'''\n",
    "A = {1, 2, 3, 4}\n",
    "B = {3, 4, 5, 6}\n",
    "A | B"
   ]
  },
  {
   "cell_type": "code",
   "execution_count": 12,
   "id": "1d3078b4-6ba4-41f8-a48b-62cbfb7b8714",
   "metadata": {},
   "outputs": [
    {
     "data": {
      "text/plain": [
       "{3, 4}"
      ]
     },
     "execution_count": 12,
     "metadata": {},
     "output_type": "execute_result"
    }
   ],
   "source": [
    "'''\n",
    "Exercise 6: Intersection of Sets\n",
    "Problem:\n",
    "Create two sets A = {1, 2, 3, 4} and B = {3, 4, 5, 6}. Find and print the intersection of both sets.\n",
    "'''\n",
    "A = {1, 2, 3, 4}\n",
    "B = {3, 4, 5, 6}\n",
    "A & B"
   ]
  },
  {
   "cell_type": "code",
   "execution_count": 13,
   "id": "3178e288-522e-4a12-87ac-5296e67d5a8e",
   "metadata": {},
   "outputs": [
    {
     "data": {
      "text/plain": [
       "{1, 2, 5, 6}"
      ]
     },
     "execution_count": 13,
     "metadata": {},
     "output_type": "execute_result"
    }
   ],
   "source": [
    "''''\n",
    "Exercise 7: Symmetric Difference\n",
    "Problem:\n",
    "Create two sets A = {1, 2, 3, 4} and B = {3, 4, 5, 6}. Find and print the symmetric difference of both sets.\n",
    "'''\n",
    "A = {1, 2, 3, 4}\n",
    "B = {3, 4, 5, 6}\n",
    "A ^ B"
   ]
  },
  {
   "cell_type": "code",
   "execution_count": 15,
   "id": "fa7db219-f37b-470f-84bc-a5375a973909",
   "metadata": {},
   "outputs": [
    {
     "name": "stdout",
     "output_type": "stream",
     "text": [
      "{'one', 'four', 'two'}\n"
     ]
    }
   ],
   "source": [
    "'''\n",
    "Exercise 8: Remove Items from a Set\n",
    "Problem:\n",
    "Remove the item 'three' from the set myset = {'one', 'two', 'three', 'four'} and print the updated set.\n",
    "'''\n",
    "myset = {'one', 'two', 'three', 'four'}\n",
    "myset.remove('three')\n",
    "print(myset)"
   ]
  },
  {
   "cell_type": "code",
   "execution_count": 17,
   "id": "d179d092-1074-4580-afc8-357ceb236e51",
   "metadata": {},
   "outputs": [
    {
     "name": "stdout",
     "output_type": "stream",
     "text": [
      "True\n",
      "True\n"
     ]
    }
   ],
   "source": [
    "'''\n",
    "Exercise 9: Subset and Superset Check\n",
    "Problem:\n",
    "Create two sets A = {1, 2, 3, 4} and B = {2, 3}. Check if B is a subset of A, and if A is a superset of B.\n",
    "'''\n",
    "A = {1, 2, 3, 4}\n",
    "B = {2, 3}\n",
    "print(B.issubset(A))\n",
    "print(A.issuperset(B))"
   ]
  },
  {
   "cell_type": "code",
   "execution_count": 19,
   "id": "1dde2063-e819-4090-8446-ad01157cfb14",
   "metadata": {},
   "outputs": [
    {
     "name": "stdout",
     "output_type": "stream",
     "text": [
      "set()\n"
     ]
    }
   ],
   "source": [
    "'''\n",
    "Exercise 10: Clear a Set\n",
    "Problem:\n",
    "Create a set myset = {10, 20, 30}. Clear all elements from the set and print the result.\n",
    "'''\n",
    "myset = {10, 20, 30}\n",
    "myset.clear()\n",
    "print(myset)"
   ]
  },
  {
   "cell_type": "code",
   "execution_count": 1,
   "id": "a336aafe-3576-4aa6-8b6b-f4bb9789c2f6",
   "metadata": {},
   "outputs": [
    {
     "name": "stdout",
     "output_type": "stream",
     "text": [
      "Week 2 assignment completed\n"
     ]
    }
   ],
   "source": [
    "print('Week 2 assignment completed')"
   ]
  }
 ],
 "metadata": {
  "kernelspec": {
   "display_name": "Python 3 (ipykernel)",
   "language": "python",
   "name": "python3"
  },
  "language_info": {
   "codemirror_mode": {
    "name": "ipython",
    "version": 3
   },
   "file_extension": ".py",
   "mimetype": "text/x-python",
   "name": "python",
   "nbconvert_exporter": "python",
   "pygments_lexer": "ipython3",
   "version": "3.13.7"
  }
 },
 "nbformat": 4,
 "nbformat_minor": 5
}
