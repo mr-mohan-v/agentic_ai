{
 "cells": [
  {
   "cell_type": "code",
   "execution_count": 4,
   "id": "833e8868-f273-4778-a197-999fcd10b3cc",
   "metadata": {},
   "outputs": [
    {
     "name": "stdin",
     "output_type": "stream",
     "text": [
      "Enter a number to check positive, negative, or zero: 100\n"
     ]
    },
    {
     "name": "stdout",
     "output_type": "stream",
     "text": [
      "positive\n"
     ]
    }
   ],
   "source": [
    "'''\n",
    "1. Exercise: Identify Positive, Negative, or Zero\n",
    "Problem: Write a Python program that prompts the user to enter a number and then checks whether the number is positive, \n",
    "negative, or zero using if-elif-else statements.\n",
    "'''\n",
    "num = int(input(\"Enter a number to check positive, negative or zero:\"))\n",
    "if num>0:\n",
    "    print(\"positive\")\n",
    "elif num<0:\n",
    "    print(\"negative\")\n",
    "else:\n",
    "    print(\"zero\")"
   ]
  },
  {
   "cell_type": "code",
   "execution_count": 8,
   "id": "652ddde6-cd34-4f20-a87f-22e73c1f8c8d",
   "metadata": {},
   "outputs": [
    {
     "name": "stdin",
     "output_type": "stream",
     "text": [
      "Enter a number to check even or odd: 100\n"
     ]
    },
    {
     "name": "stdout",
     "output_type": "stream",
     "text": [
      "Even\n"
     ]
    }
   ],
   "source": [
    "'''\n",
    "2. Exercise: Check Even or Odd\n",
    "Problem: Using a ternary operation, write a Python program that takes an integer input and prints whether the number is \"Even\" or \"Odd\".\n",
    "'''\n",
    "num = int(input(\"Enter a number to check even or odd:\"))\n",
    "if num%2==0:\n",
    "    print(\"Even\")\n",
    "else:\n",
    "    print(\"Odd\")"
   ]
  },
  {
   "cell_type": "code",
   "execution_count": 4,
   "id": "5b19b74c-c818-4e36-beb4-e573769d3a26",
   "metadata": {},
   "outputs": [
    {
     "name": "stdin",
     "output_type": "stream",
     "text": [
      "Enter a number to check even or odd: 100\n"
     ]
    },
    {
     "name": "stdout",
     "output_type": "stream",
     "text": [
      "Even\n"
     ]
    }
   ],
   "source": [
    "'''\n",
    "3. Exercise: Indentation Error\n",
    "Problem: Write a Python program with an if condition but without proper indentation (on purpose). \n",
    "Run the code and observe the IndentationError. Then fix the indentation and run the program correctly.\n",
    "'''\n",
    "num = int(input(\"Enter a number to check even or odd:\"))\n",
    "if num%2==0:\n",
    "    print(\"Even\")\n",
    "else:\n",
    "    print(\"Odd\")"
   ]
  },
  {
   "cell_type": "code",
   "execution_count": 7,
   "id": "d022fcad-d28b-45b8-bbf1-758cf78add06",
   "metadata": {},
   "outputs": [
    {
     "name": "stdout",
     "output_type": "stream",
     "text": [
      "2\n",
      "4\n",
      "6\n",
      "8\n",
      "10\n",
      "12\n",
      "14\n",
      "16\n",
      "18\n",
      "20\n"
     ]
    }
   ],
   "source": [
    "'''\n",
    "4. Exercise: Loop Through Numbers\n",
    "Problem: Write a Python program using a for loop to print all even numbers from 2 to 20.\n",
    "'''\n",
    "for i in range(2,21,2):\n",
    "    print(i)"
   ]
  },
  {
   "cell_type": "code",
   "execution_count": 12,
   "id": "d4164f48-07cf-4272-931f-c68b9867a210",
   "metadata": {},
   "outputs": [
    {
     "name": "stdout",
     "output_type": "stream",
     "text": [
      "10\n",
      "9\n",
      "8\n",
      "7\n",
      "6\n",
      "5\n",
      "4\n",
      "3\n",
      "2\n",
      "1\n"
     ]
    }
   ],
   "source": [
    "'''\n",
    "5. Exercise: Using While Loop to Count Down\n",
    "Problem: Write a Python program that uses a while loop to count down from 10 to 1. Display the number at each iteration.\n",
    "'''\n",
    "i=10\n",
    "while i>0:\n",
    "    print(i)\n",
    "    i-=1"
   ]
  },
  {
   "cell_type": "code",
   "execution_count": 18,
   "id": "1d3078b4-6ba4-41f8-a48b-62cbfb7b8714",
   "metadata": {},
   "outputs": [
    {
     "name": "stdin",
     "output_type": "stream",
     "text": [
      "Enter a number to check positive, negative, or zero: -100\n"
     ]
    },
    {
     "name": "stdout",
     "output_type": "stream",
     "text": [
      "Negative\n"
     ]
    }
   ],
   "source": [
    "'''\n",
    "6. Exercise: Nested Ternary Operation\n",
    "Problem: Write a Python program that uses a nested ternary operation to check if a number is positive, negative, or zero. \n",
    "For example, the output should be \"Positive\", \"Negative\", or \"Zero\" based on the input number.\n",
    "'''\n",
    "num = int(input(\"Enter a number to check positive, negative or zero:\"))\n",
    "print(\"Zero\" if num==0 else \"Positive\" if num>0 else \"Negative\")\n"
   ]
  },
  {
   "cell_type": "code",
   "execution_count": 19,
   "id": "3178e288-522e-4a12-87ac-5296e67d5a8e",
   "metadata": {},
   "outputs": [
    {
     "name": "stdin",
     "output_type": "stream",
     "text": [
      "Enter a number to print multiplication table: 5\n"
     ]
    },
    {
     "name": "stdout",
     "output_type": "stream",
     "text": [
      "5\n",
      "10\n",
      "15\n",
      "20\n",
      "25\n",
      "30\n",
      "35\n",
      "40\n",
      "45\n",
      "50\n"
     ]
    }
   ],
   "source": [
    "''''\n",
    "7. Exercise: Create a Multiplication Table\n",
    "Problem: Write a Python program that uses a for loop \n",
    "to print the multiplication table of a given number (up to 10). The user should input the number.\n",
    "'''\n",
    "num = int(input(\"Enter a number to print multiplication table:\"))\n",
    "for i in range(1,11):\n",
    "    print(i*num)"
   ]
  },
  {
   "cell_type": "code",
   "execution_count": 21,
   "id": "fa7db219-f37b-470f-84bc-a5375a973909",
   "metadata": {},
   "outputs": [
    {
     "name": "stdin",
     "output_type": "stream",
     "text": [
      "Enter a number greater than 10: 1\n",
      "Enter a number greater than 10: 2\n",
      "Enter a number greater than 10: -1\n",
      "Enter a number greater than 10: 0\n",
      "Enter a number greater than 10: 9\n",
      "Enter a number greater than 10: 10\n",
      "Enter a number greater than 10: 11\n"
     ]
    }
   ],
   "source": [
    "'''\n",
    "8. Exercise: While Loop with Break\n",
    "Problem: Write a Python program that uses a while loop to prompt the user to enter a number until they enter a number greater than 10. \n",
    "Once they enter a number greater than 10, use the break statement to exit the loop.\n",
    "'''\n",
    "while True:\n",
    "    num = int(input(\"Enter a number greater than 10:\"))\n",
    "    if num>10:\n",
    "        break"
   ]
  },
  {
   "cell_type": "code",
   "execution_count": 26,
   "id": "d179d092-1074-4580-afc8-357ceb236e51",
   "metadata": {},
   "outputs": [
    {
     "name": "stdout",
     "output_type": "stream",
     "text": [
      "2\n",
      "4\n",
      "6\n",
      "8\n",
      "10\n",
      "12\n",
      "14\n",
      "16\n",
      "18\n",
      "20\n"
     ]
    }
   ],
   "source": [
    "'''\n",
    "9. Exercise: Skip Odd Numbers with Continue\n",
    "Problem: Write a Python program that uses a for loop to print all even numbers between 1 and 20. \n",
    "Use the continue statement to skip the odd numbers.\n",
    "'''\n",
    "for i in range(1,21):\n",
    "    if i%2!=0:\n",
    "        continue\n",
    "    print(i)"
   ]
  },
  {
   "cell_type": "code",
   "execution_count": 32,
   "id": "1dde2063-e819-4090-8446-ad01157cfb14",
   "metadata": {},
   "outputs": [
    {
     "name": "stdin",
     "output_type": "stream",
     "text": [
      "Enter a number: 100\n"
     ]
    },
    {
     "name": "stdout",
     "output_type": "stream",
     "text": [
      "5050\n"
     ]
    }
   ],
   "source": [
    "'''\n",
    "10. Exercise: Summing Numbers Using a Loop\n",
    "Problem: Write a Python program that asks the user for a number n and then uses a for loop to sum all integers from 1 to n. \n",
    "The program should display the result of the sum.\n",
    "'''\n",
    "allsum=0\n",
    "n = int(input(\"Enter a number:\"))\n",
    "for i in range(1,n+1):\n",
    "    allsum+=i\n",
    "print(allsum)"
   ]
  }
 ],
 "metadata": {
  "kernelspec": {
   "display_name": "Python 3 (ipykernel)",
   "language": "python",
   "name": "python3"
  },
  "language_info": {
   "codemirror_mode": {
    "name": "ipython",
    "version": 3
   },
   "file_extension": ".py",
   "mimetype": "text/x-python",
   "name": "python",
   "nbconvert_exporter": "python",
   "pygments_lexer": "ipython3",
   "version": "3.13.7"
  }
 },
 "nbformat": 4,
 "nbformat_minor": 5
}
