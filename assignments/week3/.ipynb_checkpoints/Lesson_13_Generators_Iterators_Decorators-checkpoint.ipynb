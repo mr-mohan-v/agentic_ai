{
 "cells": [
  {
   "cell_type": "markdown",
   "metadata": {},
   "source": [
    "## 1. Container\n",
    "\n",
    " A container is an object that holds multiple elements, such as sequences or mappings.\n",
    " Common containers include lists, tuples, sets, and dictionaries.\n",
    "\n",
    " Examples of Containers in Python:\n",
    " 1. List: Ordered collection of items.\n",
    " 2. Tuple: Immutable ordered collection of items.\n",
    " 3. Set: Unordered collection of unique items.\n",
    " 4. Dictionary: Collection of key-value pairs.\n"
   ]
  },
  {
   "cell_type": "code",
   "execution_count": 1,
   "metadata": {},
   "outputs": [
    {
     "name": "stdout",
     "output_type": "stream",
     "text": [
      "Container Example:\n",
      "List Example: [1, 2, 3, 4, 5]\n",
      "Dictionary Example: {'name': 'John', 'age': 30}\n"
     ]
    }
   ],
   "source": [
    "# Code Example: Lists and Dictionaries\n",
    "print(\"Container Example:\")\n",
    "\n",
    "# Example of a Container - List\n",
    "list_example = [1, 2, 3, 4, 5]  # List of integers\n",
    "print(\"List Example:\", list_example)\n",
    "\n",
    "# Example of a Container - Dictionary\n",
    "dict_example = {\"name\": \"John\", \"age\": 30}  # Dictionary storing key-value pairs\n",
    "print(\"Dictionary Example:\", dict_example)"
   ]
  },
  {
   "cell_type": "markdown",
   "metadata": {},
   "source": [
    "## 2. Iterable & Iterator\n",
    "\n",
    " - Iterable: An object is iterable if it can return an iterator. An iterable is any object that can be looped over using a for loop, such as lists, tuples, or strings.\n",
    " - Iterator: An iterator is an object that represents a stream of data. It must implement two methods: __iter__() and __next__().\n",
    "   The iterator returns data one element at a time.\n",
    "\n",
    " Key Differences:\n",
    " 1. An iterable can be converted into an iterator using iter().\n",
    " 2. An iterator can be exhausted, meaning it can only be iterated once."
   ]
  },
  {
   "cell_type": "code",
   "execution_count": 2,
   "metadata": {},
   "outputs": [
    {
     "name": "stdout",
     "output_type": "stream",
     "text": [
      "\n",
      "Iterable & Iterator Example:\n",
      "Iterating over the Iterable:\n",
      "1\n",
      "2\n",
      "3\n",
      "4\n",
      "\n",
      "Using the Iterator directly:\n",
      "1\n",
      "2\n",
      "3\n",
      "4\n",
      "Iterator is exhausted\n"
     ]
    }
   ],
   "source": [
    "\n",
    "# Code Example: Iterable and Iterator\n",
    "print(\"\\nIterable & Iterator Example:\")\n",
    "\n",
    "iterable_example = [1, 2, 3, 4]  # A simple list (Iterable)\n",
    "\n",
    "# Convert iterable to iterator\n",
    "iterator_example = iter(iterable_example)  # Create iterator from iterable\n",
    "\n",
    "print(\"Iterating over the Iterable:\")\n",
    "for item in iterable_example:\n",
    "    print(item)  # Will print 1, 2, 3, 4\n",
    "\n",
    "print(\"\\nUsing the Iterator directly:\")\n",
    "print(next(iterator_example))  # 1\n",
    "print(next(iterator_example))  # 2\n",
    "print(next(iterator_example))  # 3\n",
    "print(next(iterator_example))  # 4\n",
    "\n",
    "# The iterator is exhausted, so next(iterator_example) will raise StopIteration\n",
    "try:\n",
    "    print(next(iterator_example))  # This will raise StopIteration\n",
    "except StopIteration:\n",
    "    print(\"Iterator is exhausted\")\n"
   ]
  },
  {
   "cell_type": "markdown",
   "metadata": {},
   "source": [
    "\n",
    "\n",
    "## 3. Generator\n",
    "\n",
    "A Generator is a special type of iterator that is defined with a function using yield.\n",
    "Generators produce items one at a time, as needed, and are more memory-efficient than normal iterators.\n",
    "\n",
    "Benefits of Generators:\n",
    "- Memory efficient as they produce values lazily.\n",
    "- Good for working with large datasets or streams of data."
   ]
  },
  {
   "cell_type": "code",
   "execution_count": 3,
   "metadata": {},
   "outputs": [
    {
     "name": "stdout",
     "output_type": "stream",
     "text": [
      "\n",
      "Generator Example:\n",
      "Using the Generator:\n",
      "Generator started\n",
      "1\n",
      "2\n",
      "3\n",
      "Generator finished\n",
      "Generator is exhausted\n"
     ]
    }
   ],
   "source": [
    "# Code Example: Simple Generator\n",
    "print(\"\\nGenerator Example:\")\n",
    "\n",
    "def simple_generator():\n",
    "    print(\"Generator started\")\n",
    "    yield 1\n",
    "    yield 2\n",
    "    yield 3\n",
    "    print(\"Generator finished\")\n",
    "\n",
    "gen = simple_generator()  # Create the generator\n",
    "\n",
    "print(\"Using the Generator:\")\n",
    "print(next(gen))  # Output: 1\n",
    "print(next(gen))  # Output: 2\n",
    "print(next(gen))  # Output: 3\n",
    "# The generator is exhausted, so next(gen) will raise StopIteration\n",
    "try:\n",
    "    print(next(gen))  # This will raise StopIteration\n",
    "except StopIteration:\n",
    "    print(\"Generator is exhausted\")"
   ]
  },
  {
   "cell_type": "markdown",
   "metadata": {},
   "source": [
    "\n",
    "## 4. Decorator\n",
    "\n",
    "A Decorator is a design pattern in Python that allows you to modify the behavior of a function or method without changing its code.\n",
    "Decorators are commonly used for logging, access control, memorization, and more.\n",
    "\n",
    "How a Decorator Works:\n",
    "1. Define a function (the decorator).\n",
    "2. Define the function to be decorated.\n",
    "3. Apply the decorator using the @decorator_name syntax.\n"
   ]
  },
  {
   "cell_type": "code",
   "execution_count": 5,
   "metadata": {},
   "outputs": [
    {
     "name": "stdout",
     "output_type": "stream",
     "text": [
      "\n",
      "Decorator Example:\n",
      "Calling the decorated function:\n",
      "Before function call\n",
      "Hello!\n",
      "After function call\n"
     ]
    }
   ],
   "source": [
    "# Code Example: Simple Decorator\n",
    "print(\"\\nDecorator Example:\")\n",
    "\n",
    "def simple_decorator(func):\n",
    "    def wrapper():\n",
    "        print(\"Before function call\")\n",
    "        func()\n",
    "        print(\"After function call\")\n",
    "    return wrapper\n",
    "\n",
    "@simple_decorator  # Applying the decorator to the function\n",
    "def say_hello():\n",
    "    print(\"Hello!\")\n",
    "\n",
    "print(\"Calling the decorated function:\")\n",
    "say_hello()  # Output will show the decorator's behavior\n",
    "\n",
    "\n"
   ]
  }
 ],
 "metadata": {
  "kernelspec": {
   "display_name": "Python 3 (ipykernel)",
   "language": "python",
   "name": "python3"
  },
  "language_info": {
   "codemirror_mode": {
    "name": "ipython",
    "version": 3
   },
   "file_extension": ".py",
   "mimetype": "text/x-python",
   "name": "python",
   "nbconvert_exporter": "python",
   "pygments_lexer": "ipython3",
   "version": "3.13.7"
  }
 },
 "nbformat": 4,
 "nbformat_minor": 4
}
