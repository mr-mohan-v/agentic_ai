{
 "cells": [
  {
   "cell_type": "markdown",
   "id": "8541366e-3d41-47e7-8086-6f041b99a2d2",
   "metadata": {},
   "source": [
    "# Exception Handling"
   ]
  },
  {
   "cell_type": "markdown",
   "id": "d312e7f9",
   "metadata": {},
   "source": [
    "'''\n",
    "Exercise 1: Handling ZeroDivisionError\n",
    "Problem:\n",
    "Write a Python program that asks the user to enter a number and then divides 10 by the entered number. Handle the ZeroDivisionError gracefully and print a message saying \"Cannot divide by zero\".\n",
    "'''"
   ]
  },
  {
   "cell_type": "code",
   "execution_count": 2,
   "id": "db3ace81",
   "metadata": {},
   "outputs": [
    {
     "name": "stdin",
     "output_type": "stream",
     "text": [
      "Enter a number:  0\n"
     ]
    },
    {
     "name": "stdout",
     "output_type": "stream",
     "text": [
      "Cannot divide by zero\n"
     ]
    }
   ],
   "source": [
    "try:\n",
    "    num = int(input(\"Enter a number: \"))\n",
    "    result = 10 / num\n",
    "    print(f\"The result is {result}\")\n",
    "except ZeroDivisionError:\n",
    "    print(\"Cannot divide by zero\")"
   ]
  },
  {
   "cell_type": "markdown",
   "id": "3ef64a13",
   "metadata": {},
   "source": [
    "'''\n",
    "Exercise 2: Handling ValueError\n",
    "Problem:\n",
    "Write a Python program that prompts the user to enter a number. If the user enters a non-numeric input, catch the ValueError and display the message \"Invalid input! Please enter a valid number.\"\n",
    "'''"
   ]
  },
  {
   "cell_type": "code",
   "execution_count": 3,
   "id": "5e3ba15d",
   "metadata": {},
   "outputs": [
    {
     "name": "stdin",
     "output_type": "stream",
     "text": [
      "Enter a number:  a\n"
     ]
    },
    {
     "name": "stdout",
     "output_type": "stream",
     "text": [
      "Invalid input! Please enter a valid number.\n"
     ]
    }
   ],
   "source": [
    "try:\n",
    "    num = int(input(\"Enter a number: \"))\n",
    "    print(f\"You entered: {num}\")\n",
    "except ValueError:\n",
    "    print(\"Invalid input! Please enter a valid number.\")"
   ]
  },
  {
   "cell_type": "markdown",
   "id": "74499cb5",
   "metadata": {},
   "source": [
    "'''\n",
    "Exercise 3: Multiple Exception Handling\n",
    "Problem:\n",
    "Write a Python program that takes a list of integers and tries to access an index entered by the user. If the index is out of range, catch the IndexError. If the input is not an integer, catch the ValueError.\n",
    "'''"
   ]
  },
  {
   "cell_type": "code",
   "execution_count": 5,
   "id": "a7a8b16d",
   "metadata": {},
   "outputs": [
    {
     "name": "stdin",
     "output_type": "stream",
     "text": [
      "Enter an index to access:  7\n"
     ]
    },
    {
     "name": "stdout",
     "output_type": "stream",
     "text": [
      "Index is out of range.\n"
     ]
    }
   ],
   "source": [
    "my_list = [10, 20, 30, 40, 50]\n",
    "\n",
    "try:\n",
    "    index = int(input(\"Enter an index to access: \"))\n",
    "    print(f\"Value at index {index} is {my_list[index]}\")\n",
    "except ValueError:\n",
    "    print(\"Invalid input. Please enter an integer.\")\n",
    "except IndexError:\n",
    "    print(\"Index is out of range.\")"
   ]
  },
  {
   "cell_type": "markdown",
   "id": "05b680be",
   "metadata": {},
   "source": [
    "'''\n",
    "Exercise 4: Using else and finally\n",
    "Problem:\n",
    "Write a program that prompts the user to enter a number, divides 100 by that number, and prints the result. Use the else block to print \"Operation successful\" if no exception occurs, and the finally block to print \"Execution finished\" no matter what.\n",
    "'''"
   ]
  },
  {
   "cell_type": "code",
   "execution_count": 6,
   "id": "6651297c",
   "metadata": {},
   "outputs": [
    {
     "name": "stdin",
     "output_type": "stream",
     "text": [
      "Enter a number:  0\n"
     ]
    },
    {
     "name": "stdout",
     "output_type": "stream",
     "text": [
      "Cannot divide by zero.\n",
      "Execution finished.\n"
     ]
    }
   ],
   "source": [
    "try:\n",
    "    num = int(input(\"Enter a number: \"))\n",
    "    result = 100 / num\n",
    "    print(f\"The result is {result}\")\n",
    "except ZeroDivisionError:\n",
    "    print(\"Cannot divide by zero.\")\n",
    "except ValueError:\n",
    "    print(\"Invalid input.\")\n",
    "else:\n",
    "    print(\"Operation successful.\")\n",
    "finally:\n",
    "    print(\"Execution finished.\")"
   ]
  },
  {
   "cell_type": "markdown",
   "id": "702069c0",
   "metadata": {},
   "source": [
    "'''\n",
    "Exercise 5: Raising Custom Exception\n",
    "Problem:\n",
    "Write a Python program that defines a custom exception called AgeException. If a user enters an age less than 18, raise the AgeException with the message \"Age must be 18 or older.\"\n",
    "'''"
   ]
  },
  {
   "cell_type": "code",
   "execution_count": 7,
   "id": "302ebdc8",
   "metadata": {},
   "outputs": [
    {
     "name": "stdin",
     "output_type": "stream",
     "text": [
      "Enter your age:  17\n"
     ]
    },
    {
     "name": "stdout",
     "output_type": "stream",
     "text": [
      "Age must be 18 or older.\n"
     ]
    }
   ],
   "source": [
    "class AgeException(Exception):\n",
    "    pass\n",
    "\n",
    "def check_age(age):\n",
    "    if age < 18:\n",
    "        raise AgeException(\"Age must be 18 or older.\")\n",
    "    return \"Age is valid.\"\n",
    "\n",
    "try:\n",
    "    user_age = int(input(\"Enter your age: \"))\n",
    "    print(check_age(user_age))\n",
    "except AgeException as e:\n",
    "    print(e)\n",
    "except ValueError:\n",
    "    print(\"Invalid input.\")"
   ]
  },
  {
   "cell_type": "markdown",
   "id": "719fc6db",
   "metadata": {},
   "source": [
    "'''\n",
    "Exercise 6: Handling KeyError\n",
    "Problem:\n",
    "Write a Python program that tries to access a value from a dictionary using a key entered by the user. If the key doesn't exist, catch the KeyError and print \"Key not found in the dictionary.\"\n",
    "'''"
   ]
  },
  {
   "cell_type": "code",
   "execution_count": 8,
   "id": "a0abf980",
   "metadata": {},
   "outputs": [
    {
     "name": "stdin",
     "output_type": "stream",
     "text": [
      "Enter a key to find:  abc\n"
     ]
    },
    {
     "name": "stdout",
     "output_type": "stream",
     "text": [
      "Key not found in the dictionary.\n"
     ]
    }
   ],
   "source": [
    "my_dict = {\n",
    "    \"apple\": 1,\n",
    "    \"banana\": 2,\n",
    "    \"cherry\": 3\n",
    "}\n",
    "\n",
    "try:\n",
    "    key = input(\"Enter a key to find: \")\n",
    "    print(f\"The value is {my_dict[key]}\")\n",
    "except KeyError:\n",
    "    print(\"Key not found in the dictionary.\")"
   ]
  },
  {
   "cell_type": "markdown",
   "id": "5ff972d5",
   "metadata": {},
   "source": [
    "'''\n",
    "Exercise 7: Creating and Using Custom Exception\n",
    "Problem:\n",
    "Create a custom exception called NegativeNumberException. Write a program that takes a number as input and raises this exception if the number is negative. Catch the exception and print a custom message.\n",
    "'''"
   ]
  },
  {
   "cell_type": "code",
   "execution_count": 9,
   "id": "dd26f554",
   "metadata": {},
   "outputs": [
    {
     "name": "stdin",
     "output_type": "stream",
     "text": [
      "Enter a number:  -1\n"
     ]
    },
    {
     "name": "stdout",
     "output_type": "stream",
     "text": [
      "Negative numbers are not allowed.\n"
     ]
    }
   ],
   "source": [
    "class NegativeNumberException(Exception):\n",
    "    pass\n",
    "\n",
    "def check_number(num):\n",
    "    if num < 0:\n",
    "        raise NegativeNumberException(\"Negative numbers are not allowed.\")\n",
    "    return \"Number is valid.\"\n",
    "\n",
    "try:\n",
    "    user_num = float(input(\"Enter a number: \"))\n",
    "    print(check_number(user_num))\n",
    "except NegativeNumberException as e:\n",
    "    print(e)\n",
    "except ValueError:\n",
    "    print(\"Invalid input.\")"
   ]
  },
  {
   "cell_type": "markdown",
   "id": "6ce06b42",
   "metadata": {},
   "source": [
    "'''\n",
    "Exercise 8: Catching FileNotFoundError\n",
    "Problem:\n",
    "Write a Python program that tries to open a file named \"example.txt\". If the file does not exist, catch the FileNotFoundError and display a message \"File not found.\"\n",
    "'''"
   ]
  },
  {
   "cell_type": "code",
   "execution_count": 10,
   "id": "a0cfdc96",
   "metadata": {},
   "outputs": [
    {
     "name": "stdout",
     "output_type": "stream",
     "text": [
      "File not found.\n"
     ]
    }
   ],
   "source": [
    "try:\n",
    "    with open(\"example1.txt\", \"r\") as file:\n",
    "        content = file.read()\n",
    "        print(content)\n",
    "except FileNotFoundError:\n",
    "    print(\"File not found.\")"
   ]
  },
  {
   "cell_type": "markdown",
   "id": "498524cd",
   "metadata": {},
   "source": [
    "'''\n",
    "Exercise 9: Handling Multiple Exceptions Using a Single Except Block\n",
    "Problem:\n",
    "Write a Python program that asks the user to enter two numbers. If the user enters non-numeric values, catch the ValueError. If the user tries to divide by zero, catch the ZeroDivisionError.\n",
    "'''"
   ]
  },
  {
   "cell_type": "code",
   "execution_count": 11,
   "id": "f74043b2",
   "metadata": {},
   "outputs": [
    {
     "name": "stdin",
     "output_type": "stream",
     "text": [
      "Enter the first number:  o\n"
     ]
    },
    {
     "name": "stdout",
     "output_type": "stream",
     "text": [
      "Invalid input or cannot divide by zero.\n"
     ]
    }
   ],
   "source": [
    "try:\n",
    "    num1 = float(input(\"Enter the first number: \"))\n",
    "    num2 = float(input(\"Enter the second number: \"))\n",
    "    result = num1 / num2\n",
    "    print(f\"The result is {result}\")\n",
    "except (ValueError, ZeroDivisionError):\n",
    "    print(\"Invalid input or cannot divide by zero.\")"
   ]
  },
  {
   "cell_type": "markdown",
   "id": "1c9acf03",
   "metadata": {},
   "source": [
    "'''\n",
    "Exercise 10: Using finally for Cleanup\n",
    "Problem:\n",
    "Write a Python program that opens a file for writing, writes some text, and then closes the file. Use the finally block to ensure that the file is always closed, even if an error occurs during writing.\n",
    "'''"
   ]
  },
  {
   "cell_type": "code",
   "execution_count": 12,
   "id": "3d74ccda",
   "metadata": {},
   "outputs": [
    {
     "name": "stdout",
     "output_type": "stream",
     "text": [
      "File written successfully.\n",
      "File closed.\n"
     ]
    }
   ],
   "source": [
    "file = None\n",
    "\n",
    "try:\n",
    "    file = open(\"cleanup.txt\", \"w\")\n",
    "    file.write(\"This is some text.\")\n",
    "    print(\"File written successfully.\")\n",
    "except Exception as e:\n",
    "    print(f\"An error occurred: {e}\")\n",
    "finally:\n",
    "    if file:\n",
    "        file.close()\n",
    "    print(\"File closed.\")"
   ]
  }
 ],
 "metadata": {
  "kernelspec": {
   "display_name": "Python 3 (ipykernel)",
   "language": "python",
   "name": "python3"
  },
  "language_info": {
   "codemirror_mode": {
    "name": "ipython",
    "version": 3
   },
   "file_extension": ".py",
   "mimetype": "text/x-python",
   "name": "python",
   "nbconvert_exporter": "python",
   "pygments_lexer": "ipython3",
   "version": "3.13.7"
  }
 },
 "nbformat": 4,
 "nbformat_minor": 5
}
