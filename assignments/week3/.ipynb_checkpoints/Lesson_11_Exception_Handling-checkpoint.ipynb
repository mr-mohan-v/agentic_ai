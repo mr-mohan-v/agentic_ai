{
 "cells": [
  {
   "cell_type": "markdown",
   "metadata": {},
   "source": [
    "## 1: Introduction to Errors and Exceptions\n",
    "In Python, errors are events that disrupt the normal flow of a program's execution. \n",
    "There are two main types of errors: \n",
    " 1. Syntax Errors\n",
    " 2. Exceptions (Runtime Errors)\n",
    "\n",
    "### Syntax Errors:\n",
    " \n",
    " Syntax errors occur when the code violates the syntax rules of Python. \n",
    " These errors are detected before execution, during the compilation phase.\n",
    " For example:\n",
    "\n",
    " Uncommenting the below line will cause a syntax error\n",
    " print(\"Hello world\"\n",
    "\n",
    "### Exceptions:\n",
    " \n",
    " Exceptions are errors that occur during the execution of the program. \n",
    " They can occur due to invalid inputs, file I/O problems, etc.\n",
    " These errors can be handled using try-except blocks."
   ]
  },
  {
   "cell_type": "markdown",
   "metadata": {},
   "source": [
    "## 2. Exception Handling in Python\n",
    "Python makes it easy to handle exceptions using the try, except, else, and finally blocks. Let me walk you through this with an example"
   ]
  },
  {
   "cell_type": "code",
   "execution_count": 3,
   "metadata": {},
   "outputs": [
    {
     "name": "stdin",
     "output_type": "stream",
     "text": [
      "Enter a number:  1\n"
     ]
    },
    {
     "name": "stdout",
     "output_type": "stream",
     "text": [
      "The result is 10.0\n",
      "Execution completed.\n"
     ]
    }
   ],
   "source": [
    "# Let's start by demonstrating the basic syntax.\n",
    "try:\n",
    "    # Code that may raise an exception\n",
    "    num = int(input(\"Enter a number: \"))\n",
    "    result = 10 / num\n",
    "except ZeroDivisionError as e:\n",
    "    # Handling division by zero exception\n",
    "    print(\"Error: Cannot divide by zero!\")\n",
    "except ValueError as e:\n",
    "    # Handling invalid input error\n",
    "    print(\"Error: Invalid input! Please enter a valid number.\")\n",
    "else:\n",
    "    # This block runs if no exception occurred\n",
    "    print(\"The result is\", result)\n",
    "finally:\n",
    "    # This block runs no matter what\n",
    "    print(\"Execution completed.\")\n",
    "    "
   ]
  },
  {
   "cell_type": "markdown",
   "metadata": {},
   "source": [
    "## 3. Types of Exceptions in Python\n",
    "\n",
    "Python has many built-in exceptions that can be used to handle specific errors.\n",
    "Some of the common exceptions include:\n",
    "\n",
    "1. ZeroDivisionError: Raised when dividing by zero.\n",
    "2. ValueError: Raised when a function receives an argument of the correct type but inappropriate value.\n",
    "3. IndexError: Raised when trying to access an element from a list using an index that is out of range.\n",
    "4. KeyError: Raised when trying to access a dictionary with a key that doesn't exist.\n",
    "5. FileNotFoundError: Raised when trying to open a file that does not exist."
   ]
  },
  {
   "cell_type": "code",
   "execution_count": 4,
   "metadata": {},
   "outputs": [
    {
     "name": "stdout",
     "output_type": "stream",
     "text": [
      "Caught an exception: division by zero\n"
     ]
    }
   ],
   "source": [
    "# Example 1: ZeroDivisionError\n",
    "try:\n",
    "    print(10 / 0)\n",
    "except ZeroDivisionError as e:\n",
    "    print(f\"Caught an exception: {e}\")\n"
   ]
  },
  {
   "cell_type": "code",
   "execution_count": 5,
   "metadata": {},
   "outputs": [
    {
     "name": "stdout",
     "output_type": "stream",
     "text": [
      "Caught an exception: invalid literal for int() with base 10: 'not a number'\n"
     ]
    }
   ],
   "source": [
    "# Example 2: ValueError\n",
    "try:\n",
    "    num = int(\"not a number\")\n",
    "except ValueError as e:\n",
    "    print(f\"Caught an exception: {e}\")\n"
   ]
  },
  {
   "cell_type": "code",
   "execution_count": 6,
   "metadata": {},
   "outputs": [
    {
     "name": "stdout",
     "output_type": "stream",
     "text": [
      "Caught an exception: list index out of range\n"
     ]
    }
   ],
   "source": [
    "# Example 3: IndexError\n",
    "my_list = [1, 2, 3]\n",
    "try:\n",
    "    print(my_list[5])\n",
    "except IndexError as e:\n",
    "    print(f\"Caught an exception: {e}\")"
   ]
  },
  {
   "cell_type": "code",
   "execution_count": 7,
   "metadata": {},
   "outputs": [
    {
     "name": "stdout",
     "output_type": "stream",
     "text": [
      "Caught an exception: 'c'\n"
     ]
    }
   ],
   "source": [
    "# Example 4: KeyError\n",
    "my_dict = {'a': 1, 'b': 2}\n",
    "try:\n",
    "    print(my_dict['c'])\n",
    "except KeyError as e:\n",
    "    print(f\"Caught an exception: {e}\")"
   ]
  },
  {
   "cell_type": "markdown",
   "metadata": {},
   "source": [
    "## 4. Raising Exceptions in Python\n",
    "\n",
    "Sometimes, we might want to manually raise exceptions ourselves. Python lets us do that with the raise keyword\n",
    "\n",
    "You can also manually raise exceptions in your program using the `raise` keyword.\n",
    "\n",
    "The syntax for raising an exception is as follows:\n",
    "    \n",
    "    raise ExceptionType(\"Error message\")"
   ]
  },
  {
   "cell_type": "code",
   "execution_count": 9,
   "metadata": {},
   "outputs": [
    {
     "ename": "ValueError",
     "evalue": "Age must be 18 or older.",
     "output_type": "error",
     "traceback": [
      "\u001b[31m---------------------------------------------------------------------------\u001b[39m",
      "\u001b[31mValueError\u001b[39m                                Traceback (most recent call last)",
      "\u001b[36mCell\u001b[39m\u001b[36m \u001b[39m\u001b[32mIn[9]\u001b[39m\u001b[32m, line 9\u001b[39m\n\u001b[32m      6\u001b[39m         \u001b[38;5;28mprint\u001b[39m(\u001b[33m\"\u001b[39m\u001b[33mAge is valid.\u001b[39m\u001b[33m\"\u001b[39m)\n\u001b[32m      8\u001b[39m \u001b[38;5;66;03m# Uncommenting the following line will raise a ValueError\u001b[39;00m\n\u001b[32m----> \u001b[39m\u001b[32m9\u001b[39m \u001b[43mcheck_age\u001b[49m\u001b[43m(\u001b[49m\u001b[32;43m15\u001b[39;49m\u001b[43m)\u001b[49m\n",
      "\u001b[36mCell\u001b[39m\u001b[36m \u001b[39m\u001b[32mIn[9]\u001b[39m\u001b[32m, line 4\u001b[39m, in \u001b[36mcheck_age\u001b[39m\u001b[34m(age)\u001b[39m\n\u001b[32m      2\u001b[39m \u001b[38;5;28;01mdef\u001b[39;00m\u001b[38;5;250m \u001b[39m\u001b[34mcheck_age\u001b[39m(age):\n\u001b[32m      3\u001b[39m     \u001b[38;5;28;01mif\u001b[39;00m age < \u001b[32m18\u001b[39m:\n\u001b[32m----> \u001b[39m\u001b[32m4\u001b[39m         \u001b[38;5;28;01mraise\u001b[39;00m \u001b[38;5;167;01mValueError\u001b[39;00m(\u001b[33m\"\u001b[39m\u001b[33mAge must be 18 or older.\u001b[39m\u001b[33m\"\u001b[39m)\n\u001b[32m      5\u001b[39m     \u001b[38;5;28;01melse\u001b[39;00m:\n\u001b[32m      6\u001b[39m         \u001b[38;5;28mprint\u001b[39m(\u001b[33m\"\u001b[39m\u001b[33mAge is valid.\u001b[39m\u001b[33m\"\u001b[39m)\n",
      "\u001b[31mValueError\u001b[39m: Age must be 18 or older."
     ]
    }
   ],
   "source": [
    "# Example of raising a custom exception:\n",
    "def check_age(age):\n",
    "    if age < 18:\n",
    "        raise ValueError(\"Age must be 18 or older.\")\n",
    "    else:\n",
    "        print(\"Age is valid.\")\n",
    "\n",
    "# Uncommenting the following line will raise a ValueError\n",
    "check_age(15)"
   ]
  },
  {
   "cell_type": "code",
   "execution_count": 10,
   "metadata": {},
   "outputs": [
    {
     "name": "stdout",
     "output_type": "stream",
     "text": [
      "Caught an exception: Age must be 18 or older.\n"
     ]
    }
   ],
   "source": [
    "# Handling the raised exception\n",
    "try:\n",
    "    check_age(15)\n",
    "except ValueError as e:\n",
    "    print(f\"Caught an exception: {e}\")"
   ]
  },
  {
   "cell_type": "markdown",
   "metadata": {},
   "source": [
    "\n",
    "## 5. Custom Exception Handling\n",
    "You can create your own custom exceptions by subclassing the built-in Exception class.\n",
    "\n",
    "This allows you to create more specific error messages and handle custom error cases."
   ]
  },
  {
   "cell_type": "code",
   "execution_count": 11,
   "metadata": {},
   "outputs": [
    {
     "name": "stdout",
     "output_type": "stream",
     "text": [
      "Caught a custom exception: This is a custom error.\n"
     ]
    }
   ],
   "source": [
    "class CustomError(Exception):\n",
    "    def __init__(self, message):\n",
    "        self.message = message\n",
    "        super().__init__(self.message)\n",
    "\n",
    "# Using custom exception\n",
    "try:\n",
    "    raise CustomError(\"This is a custom error.\")\n",
    "except CustomError as e:\n",
    "    print(f\"Caught a custom exception: {e}\")"
   ]
  },
  {
   "cell_type": "markdown",
   "metadata": {},
   "source": [
    "## 6. Using else and finally Clauses\n",
    " The `else` block will run if no exception occurs in the try block, and \n",
    " the `finally` block will run no matter what, even if an exception occurs.\n"
   ]
  },
  {
   "cell_type": "code",
   "execution_count": 12,
   "metadata": {},
   "outputs": [
    {
     "name": "stdout",
     "output_type": "stream",
     "text": [
      "The result of division is 5.0\n",
      "Execution finished.\n",
      "Cannot divide by zero.\n",
      "Execution finished.\n"
     ]
    }
   ],
   "source": [
    "def safe_divide(x, y):\n",
    "    try:\n",
    "        result = x / y\n",
    "    except ZeroDivisionError:\n",
    "        print(\"Cannot divide by zero.\")\n",
    "    else:\n",
    "        print(f\"The result of division is {result}\")\n",
    "    finally:\n",
    "        print(\"Execution finished.\")\n",
    "\n",
    "# Example usage\n",
    "safe_divide(10, 2)  # No exception\n",
    "safe_divide(10, 0)  # ZeroDivisionError"
   ]
  },
  {
   "cell_type": "markdown",
   "metadata": {},
   "source": [
    "## 7. Best Practices for Exception Handling\n",
    " 1. Catch specific exceptions rather than a generic Exception. This improves debugging.\n",
    " 2. Avoid using bare `except` clauses, as they catch all exceptions, including unexpected ones.\n",
    " 3. Use the `finally` block to clean up resources, like closing files or releasing network connections.\n"
   ]
  },
  {
   "cell_type": "code",
   "execution_count": 13,
   "metadata": {},
   "outputs": [
    {
     "name": "stdout",
     "output_type": "stream",
     "text": [
      "File not found.\n",
      "Closing the file.\n"
     ]
    },
    {
     "ename": "NameError",
     "evalue": "name 'file' is not defined",
     "output_type": "error",
     "traceback": [
      "\u001b[31m---------------------------------------------------------------------------\u001b[39m",
      "\u001b[31mNameError\u001b[39m                                 Traceback (most recent call last)",
      "\u001b[36mCell\u001b[39m\u001b[36m \u001b[39m\u001b[32mIn[13]\u001b[39m\u001b[32m, line 11\u001b[39m\n\u001b[32m      9\u001b[39m \u001b[38;5;28;01mfinally\u001b[39;00m:\n\u001b[32m     10\u001b[39m     \u001b[38;5;28mprint\u001b[39m(\u001b[33m\"\u001b[39m\u001b[33mClosing the file.\u001b[39m\u001b[33m\"\u001b[39m)\n\u001b[32m---> \u001b[39m\u001b[32m11\u001b[39m     \u001b[43mfile\u001b[49m.close()  \u001b[38;5;66;03m# Always close the file after usage\u001b[39;00m\n",
      "\u001b[31mNameError\u001b[39m: name 'file' is not defined"
     ]
    }
   ],
   "source": [
    "# Example: Catching specific exception and using `finally` for cleanup.\n",
    "try:\n",
    "    file = open(\"test.txt\", \"r\")\n",
    "    content = file.read()\n",
    "except FileNotFoundError:\n",
    "    print(\"File not found.\")\n",
    "else:\n",
    "    print(content)\n",
    "finally:\n",
    "    print(\"Closing the file.\")\n",
    "    file.close()  # Always close the file after usage\n",
    "\n"
   ]
  }
 ],
 "metadata": {
  "kernelspec": {
   "display_name": "Python 3 (ipykernel)",
   "language": "python",
   "name": "python3"
  },
  "language_info": {
   "codemirror_mode": {
    "name": "ipython",
    "version": 3
   },
   "file_extension": ".py",
   "mimetype": "text/x-python",
   "name": "python",
   "nbconvert_exporter": "python",
   "pygments_lexer": "ipython3",
   "version": "3.13.7"
  }
 },
 "nbformat": 4,
 "nbformat_minor": 4
}
