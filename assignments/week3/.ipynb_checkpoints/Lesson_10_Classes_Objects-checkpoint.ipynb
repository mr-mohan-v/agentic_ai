{
 "cells": [
  {
   "cell_type": "markdown",
   "metadata": {},
   "source": [
    "# Classes and Objects"
   ]
  },
  {
   "cell_type": "code",
   "execution_count": 1,
   "metadata": {},
   "outputs": [
    {
     "name": "stdout",
     "output_type": "stream",
     "text": [
      "Buddy says Woof!\n",
      "Max says Woof!\n"
     ]
    }
   ],
   "source": [
    "class Dog:\n",
    "    def __init__(self, name, age):\n",
    "        self.name = name   # attribute\n",
    "        self.age = age     # attribute\n",
    "\n",
    "    def speak(self):       # method/function\n",
    "        return f\"{self.name} says Woof!\"\n",
    "\n",
    "dog1 = Dog(\"Buddy\", 3) # Object creation\n",
    "dog2 = Dog(\"Max\", 5)   # Object creation\n",
    "\n",
    "print(dog1.speak())  # Output: Buddy says Woof!\n",
    "print(dog2.speak())  # Output: Max says Woof!\n"
   ]
  },
  {
   "cell_type": "code",
   "execution_count": 8,
   "metadata": {},
   "outputs": [
    {
     "name": "stdout",
     "output_type": "stream",
     "text": [
      "Deposited 100. Current balance: 100\n",
      "Balance : 100\n"
     ]
    }
   ],
   "source": [
    "class BankAccount:\n",
    "    def __init__(self, owner, balance=0):\n",
    "        self.owner = owner\n",
    "        self.__balance = balance  # Private attribute\n",
    "\n",
    "    def deposit(self, amount):\n",
    "        if amount > 0:\n",
    "            self.__balance += amount\n",
    "            print(f\"Deposited {amount}. Current balance: {self.__balance}\")\n",
    "        else:\n",
    "            print(\"Deposit amount must be positive.\")\n",
    "\n",
    "    def withdraw(self, amount):\n",
    "        if 0 < amount <= self.__balance:\n",
    "            self.__balance -= amount\n",
    "            print(f\"Withdrew {amount}. Current balance: {self.__balance}\")\n",
    "        else:\n",
    "            print(\"Invalid withdrawal amount.\")\n",
    "\n",
    "    def get_balance(self):\n",
    "        return self.__balance\n",
    "\n",
    "bank_account = BankAccount(\"python\")\n",
    "bank_account.deposit(100);\n",
    "print(f\"Balance : {bank_account.get_balance()}\");\n"
   ]
  },
  {
   "cell_type": "code",
   "execution_count": null,
   "metadata": {},
   "outputs": [],
   "source": [
    "class Vehicle:\n",
    "    # Vehicle class implementation\n",
    "class Car(Vehicle):\n",
    "    # Car class implementation"
   ]
  },
  {
   "cell_type": "code",
   "execution_count": 10,
   "metadata": {},
   "outputs": [
    {
     "name": "stdout",
     "output_type": "stream",
     "text": [
      "Honk! Honk!\n"
     ]
    }
   ],
   "source": [
    "class Vehicle:\n",
    "    def __init__(self, brand, model):\n",
    "        self.brand = brand\n",
    "        self.model = model\n",
    "\n",
    "    def start(self):\n",
    "        print(f\"The {self.brand} {self.model} is starting.\")\n",
    "\n",
    "class Car(Vehicle):\n",
    "    def __init__(self, brand, model, wheels=4):\n",
    "        super().__init__(brand, model)\n",
    "        self.wheels = wheels\n",
    "\n",
    "    def honk(self):\n",
    "        print(\"Honk! Honk!\")\n",
    "car = Car(\"audi\",\"2025\",5)\n",
    "car.honk()"
   ]
  },
  {
   "cell_type": "code",
   "execution_count": null,
   "metadata": {},
   "outputs": [],
   "source": [
    "class Grandparent:\n",
    "    \n",
    "class Parent(Grandparent):\n",
    "    \n",
    "class Child(Parent):\n",
    "   \n"
   ]
  },
  {
   "cell_type": "code",
   "execution_count": 26,
   "metadata": {},
   "outputs": [
    {
     "name": "stdout",
     "output_type": "stream",
     "text": [
      "Hello, I am from the family family.\n",
      "Hello, I am parent from the family family.\n",
      "Hello, I am child, child of parent from the family family.\n"
     ]
    }
   ],
   "source": [
    "class Grandparent:\n",
    "    def __init__(self, family_name):\n",
    "        self.family_name = family_name\n",
    "\n",
    "    def greet(self):\n",
    "        print(f\"Hello, I am from the {self.family_name} family.\")\n",
    "\n",
    "class Parent(Grandparent):\n",
    "    def __init__(self, family_name, parent_name):\n",
    "        super().__init__(family_name)\n",
    "        self.parent_name = parent_name\n",
    "\n",
    "    def greet(self):\n",
    "        print(f\"Hello, I am {self.parent_name} from the {self.family_name} family.\")\n",
    "\n",
    "class Child(Parent):\n",
    "    def __init__(self, family_name, parent_name, child_name):\n",
    "        super().__init__(family_name, parent_name)\n",
    "        self.child_name = child_name\n",
    "\n",
    "    def greet(self):\n",
    "        print(f\"Hello, I am {self.child_name}, child of {self.parent_name} from the {self.family_name} family.\")\n",
    "grandparent = Grandparent(\"family\")\n",
    "grandparent.greet()\n",
    "parent = Parent(\"family\",\"parent\")\n",
    "parent.greet()\n",
    "child = Child(\"family\",\"parent\",\"child\")\n",
    "child.greet()\n"
   ]
  },
  {
   "cell_type": "code",
   "execution_count": 28,
   "metadata": {},
   "outputs": [],
   "source": [
    "class Driver:\n",
    "    def __init__(self, name):\n",
    "        self.name = name\n",
    "\n",
    "    def drive(self):\n",
    "        print(f\"{self.name} is driving.\")\n",
    "\n",
    "class Vehicle:\n",
    "    def __init__(self, brand):\n",
    "        self.brand = brand\n",
    "\n",
    "    def honk(self):\n",
    "        print(f\"{self.brand} car is honking.\")\n",
    "\n",
    "class Car(Driver, Vehicle):\n",
    "    def __init__(self, name, brand):\n",
    "        Driver.__init__(self, name)\n",
    "        Vehicle.__init__(self, brand)\n"
   ]
  },
  {
   "cell_type": "code",
   "execution_count": 30,
   "metadata": {},
   "outputs": [
    {
     "name": "stdout",
     "output_type": "stream",
     "text": [
      "Alice is driving.\n",
      "Audi car is honking.\n"
     ]
    }
   ],
   "source": [
    "# Defining the Driver class\n",
    "class Driver:\n",
    "    def __init__(self, name):\n",
    "        self.name = name\n",
    "\n",
    "    def drive(self):\n",
    "        print(f\"{self.name} is driving.\")\n",
    "\n",
    "# Defining the Vehicle class\n",
    "class Vehicle:\n",
    "    def __init__(self, brand):\n",
    "        self.brand = brand\n",
    "\n",
    "    def honk(self):\n",
    "        print(f\"{self.brand} car is honking.\")\n",
    "\n",
    "# Defining the Car class that inherits from Driver and Vehicle\n",
    "class Car(Driver, Vehicle):\n",
    "    def __init__(self, name, brand):\n",
    "        Driver.__init__(self, name)\n",
    "        Vehicle.__init__(self, brand)\n",
    "\n",
    "# Creating an instance of the Car class\n",
    "my_car = Car(\"Alice\", \"Audi\")\n",
    "my_car.drive()  # Inherited method from Driver class\n",
    "my_car.honk()   # Inherited method from Vehicle class\n"
   ]
  },
  {
   "cell_type": "code",
   "execution_count": 32,
   "metadata": {},
   "outputs": [
    {
     "name": "stdout",
     "output_type": "stream",
     "text": [
      "Animal speaks\n",
      "Woof!\n",
      "Meow!\n"
     ]
    }
   ],
   "source": [
    "class Animal:\n",
    "    def speak(self):\n",
    "        print(\"Animal speaks\")\n",
    "\n",
    "class Dog(Animal):\n",
    "    def speak(self):\n",
    "        print(\"Woof!\")\n",
    "\n",
    "class Cat(Animal):\n",
    "    def speak(self):\n",
    "        print(\"Meow!\")\n",
    "\n",
    "# Creating objects\n",
    "animal = Animal()\n",
    "dog = Dog()\n",
    "cat = Cat()\n",
    "\n",
    "# Calling the speak method\n",
    "animal.speak()\n",
    "dog.speak()\n",
    "cat.speak()\n"
   ]
  },
  {
   "cell_type": "code",
   "execution_count": 33,
   "metadata": {},
   "outputs": [
    {
     "name": "stdout",
     "output_type": "stream",
     "text": [
      "5\n",
      "15\n",
      "30\n"
     ]
    }
   ],
   "source": [
    "class Calculator:\n",
    "    def add(self, a, b=0, c=0):\n",
    "        return a + b + c\n",
    "\n",
    "calc = Calculator()\n",
    "print(calc.add(5))        # Output: 5\n",
    "print(calc.add(5, 10))    # Output: 15\n",
    "print(calc.add(5, 10, 15)) # Output: 30\n"
   ]
  },
  {
   "cell_type": "code",
   "execution_count": 34,
   "metadata": {},
   "outputs": [
    {
     "name": "stdout",
     "output_type": "stream",
     "text": [
      "Dog sound: Bark and moves by: Run\n",
      "Bird sound: Chirp and moves by: Fly\n"
     ]
    }
   ],
   "source": [
    "from abc import ABC, abstractmethod\n",
    "\n",
    "# Abstract Class\n",
    "class Animal(ABC):\n",
    "    \n",
    "    @abstractmethod\n",
    "    def sound(self):\n",
    "        pass\n",
    "    \n",
    "    @abstractmethod\n",
    "    def move(self):\n",
    "        pass\n",
    "\n",
    "# Concrete class\n",
    "class Dog(Animal):\n",
    "    \n",
    "    def sound(self):\n",
    "        return \"Bark\"\n",
    "    \n",
    "    def move(self):\n",
    "        return \"Run\"\n",
    "\n",
    "class Bird(Animal):\n",
    "    \n",
    "    def sound(self):\n",
    "        return \"Chirp\"\n",
    "    \n",
    "    def move(self):\n",
    "        return \"Fly\"\n",
    "\n",
    "# Instantiate concrete classes\n",
    "dog = Dog()\n",
    "bird = Bird()\n",
    "\n",
    "print(f\"Dog sound: {dog.sound()} and moves by: {dog.move()}\")\n",
    "print(f\"Bird sound: {bird.sound()} and moves by: {bird.move()}\")\n"
   ]
  },
  {
   "cell_type": "code",
   "execution_count": null,
   "metadata": {},
   "outputs": [],
   "source": [
    "def __init__(self)\n",
    "def __str__(self)\n",
    "def __add__(self)\n"
   ]
  },
  {
   "cell_type": "code",
   "execution_count": 36,
   "metadata": {},
   "outputs": [
    {
     "name": "stdout",
     "output_type": "stream",
     "text": [
      "Rectangle: 4 x 5\n",
      "Rectangle: 3 x 6\n",
      "Rectangle: 7 x 11\n"
     ]
    }
   ],
   "source": [
    "class Rectangle:\n",
    "    def __init__(self, length, width):\n",
    "        self.length = length\n",
    "        self.width = width\n",
    "    \n",
    "    def __str__(self):\n",
    "        return f'Rectangle: {self.length} x {self.width}'\n",
    "    \n",
    "    def __add__(self, other):\n",
    "        if isinstance(other, Rectangle):\n",
    "            return Rectangle(self.length + other.length, self.width + other.width)\n",
    "\n",
    "# Create two rectangle objects\n",
    "rect1 = Rectangle(4, 5)\n",
    "rect2 = Rectangle(3, 6)\n",
    "\n",
    "# Print objects using __str__\n",
    "print(rect1)\n",
    "print(rect2)\n",
    "\n",
    "# Add two rectangles\n",
    "rect3 = rect1 + rect2\n",
    "print(rect3)\n"
   ]
  }
 ],
 "metadata": {
  "kernelspec": {
   "display_name": "Python 3 (ipykernel)",
   "language": "python",
   "name": "python3"
  },
  "language_info": {
   "codemirror_mode": {
    "name": "ipython",
    "version": 3
   },
   "file_extension": ".py",
   "mimetype": "text/x-python",
   "name": "python",
   "nbconvert_exporter": "python",
   "pygments_lexer": "ipython3",
   "version": "3.13.7"
  }
 },
 "nbformat": 4,
 "nbformat_minor": 4
}
