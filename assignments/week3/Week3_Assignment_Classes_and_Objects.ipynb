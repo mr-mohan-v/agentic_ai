{
 "cells": [
  {
   "cell_type": "markdown",
   "metadata": {},
   "source": [
    "# Classes and Objects in Python Exercises:"
   ]
  },
  {
   "cell_type": "code",
   "execution_count": 1,
   "metadata": {},
   "outputs": [
    {
     "name": "stdout",
     "output_type": "stream",
     "text": [
      "2022 Toyota Camry\n"
     ]
    }
   ],
   "source": [
    "'''\n",
    "Exercise 1: Create a Car class\n",
    "Write a class Car that -has the following attributes: make, model, and year. \n",
    "Also, define a method description() that returns a string describing the car (e.g., \"2022 Toyota Camry\").\n",
    "'''\n",
    "\n",
    "class Car:\n",
    "    def __init__(self, make, model, year):\n",
    "        self.make = make\n",
    "        self.model = model\n",
    "        self.year = year\n",
    "    def description(self):\n",
    "        return f\"{self.year} {self.model} {self.make}\"\n",
    "\n",
    "car = Car(\"Camry\",\"Toyota\",\"2022\")\n",
    "print(car.description())"
   ]
  },
  {
   "cell_type": "code",
   "execution_count": 5,
   "metadata": {},
   "outputs": [
    {
     "name": "stdout",
     "output_type": "stream",
     "text": [
      "Deposited 100. Current balance: 110\n",
      "Balance : 110\n",
      "Withdrew 50. Current balance: 60\n",
      "Balance : 60\n"
     ]
    }
   ],
   "source": [
    "'''\n",
    "Exercise 2: Encapsulation in a BankAccount class\n",
    "Create a BankAccount class with attributes balance and account_number. \n",
    "Add methods to deposit and withdraw money, ensuring the balance cannot go negative. The balance attribute should be private.\n",
    "'''\n",
    "class BankAccount:\n",
    "    def __init__(self, balance, account_number):\n",
    "        self.__balance = balance\n",
    "        self.account_number = account_number\n",
    "\n",
    "    def deposit(self, amount):\n",
    "        if amount>0:\n",
    "            self.__balance += amount\n",
    "            print(f\"Deposited {amount}. Current balance: {self.__balance}\")\n",
    "        else:\n",
    "            print(\"Deposit amount must be positive.\")\n",
    "    def withdraw(self, amount):\n",
    "        if 0 < amount < self.__balance:\n",
    "            self.__balance -= amount\n",
    "            print(f\"Withdrew {amount}. Current balance: {self.__balance}\")\n",
    "        else:\n",
    "            print(\"Invalid withdrawal amount.\")\n",
    "\n",
    "    def get_balance(self):\n",
    "        return self.__balance\n",
    "\n",
    "bank_account = BankAccount(10,\"123\")\n",
    "bank_account.deposit(100);\n",
    "print(f\"Balance : {bank_account.get_balance()}\");\n",
    "bank_account.withdraw(50);\n",
    "print(f\"Balance : {bank_account.get_balance()}\");"
   ]
  },
  {
   "cell_type": "code",
   "execution_count": 15,
   "metadata": {},
   "outputs": [
    {
     "name": "stdout",
     "output_type": "stream",
     "text": [
      "Alice's base salary is 60,000.00\n",
      "Bob's total salary is 90,000.00\n",
      "Charlie's total salary (including bonus) is 122,000.00\n"
     ]
    }
   ],
   "source": [
    "'''\n",
    "Exercise 3: Inheritance Example with Employee and Manager\n",
    "Create a base class Employee with attributes like name and salary.\n",
    "Then, create a derived class Manager that adds an attribute for department and overrides the get_salary() method to include a bonus.\n",
    "'''\n",
    "\n",
    "class Employee:\n",
    "    def __init__(self, name, salary):\n",
    "        self.name = name\n",
    "        self.salary = salary\n",
    "    def get_salary(self):\n",
    "        return self.salary\n",
    "class Manager(Employee):\n",
    "    def __init__(self, name, salary, department,bonus=0):\n",
    "        super().__init__(name,salary)\n",
    "        self.department = department\n",
    "        self.bonus = bonus\n",
    "    def get_salary(self):\n",
    "        self.total_salary = self.salary + self.bonus\n",
    "        return self.total_salary\n",
    "\n",
    "employee1 = Employee(\"Alice\", 60000)\n",
    "print(f\"Alice's base salary is {employee1.get_salary():,.2f}\")\n",
    "\n",
    "manager1 = Manager(\"Bob\", 90000, \"Engineering\")\n",
    "print(f\"Bob's total salary is {manager1.get_salary():,.2f}\")\n",
    "\n",
    "manager2 = Manager(\"Charlie\", 120000, \"Sales\", bonus=2000)\n",
    "print(f\"Charlie's total salary (including bonus) is {manager2.get_salary():,.2f}\")"
   ]
  },
  {
   "cell_type": "code",
   "execution_count": 21,
   "metadata": {},
   "outputs": [
    {
     "name": "stdout",
     "output_type": "stream",
     "text": [
      "Dog bark\n",
      "Cat meow\n"
     ]
    }
   ],
   "source": [
    "'''\n",
    "Exercise 4: Polymorphism in Animal class\n",
    "Create a base class Animal with a method speak(). Then, create two derived classes Dog and Cat, each overriding the speak() method.\n",
    "Demonstrate polymorphism by creating a function make_sound() that takes an Animal object and calls the speak() method.\n",
    "'''\n",
    "\n",
    "class Animal:\n",
    "    def speak(self):\n",
    "        raise NotImplementedError(\"Subclass must implement abstract method\")\n",
    "\n",
    "class Dog(Animal):\n",
    "    def speak(self):\n",
    "        print(\"Dog bark\")\n",
    "\n",
    "class Cat(Animal):\n",
    "    def speak(self):\n",
    "        print(\"Cat meow\")\n",
    "\n",
    "def make_sound(animal):\n",
    "    animal.speak()\n",
    "\n",
    "dog = Dog()\n",
    "cat = Cat()\n",
    "make_sound(dog)\n",
    "make_sound(cat)"
   ]
  },
  {
   "cell_type": "code",
   "execution_count": 24,
   "metadata": {},
   "outputs": [
    {
     "name": "stdout",
     "output_type": "stream",
     "text": [
      "Area of circle: 78.53981633974483\n",
      "Area of rectangle: 30\n"
     ]
    }
   ],
   "source": [
    "'''\n",
    "Exercise 5: Method Overriding with Shape class\n",
    "Create a base class Shape with a method area(). \n",
    "Then, create derived classes Circle and Rectangle, each implementing the area() method differently. Use method overriding.\n",
    "'''\n",
    "import math\n",
    "class Shape:\n",
    "    def area(self):\n",
    "        pass\n",
    "        \n",
    "class Circle(Shape):\n",
    "    def __init__(self,radius):\n",
    "        self.radius = radius\n",
    "\n",
    "    def area(self):\n",
    "        return math.pi * self.radius ** 2\n",
    "\n",
    "class Rectangle(Shape):\n",
    "    def __init__(self,length,breadth):\n",
    "        self.length = length\n",
    "        self.breadth = breadth\n",
    "    def area(self):\n",
    "        return self.length * self.breadth\n",
    "\n",
    "circle = Circle(5)\n",
    "print(f\"Area of circle: {circle.area()}\")\n",
    "\n",
    "rectangle = Rectangle(5,6)\n",
    "print(f\"Area of rectangle: {rectangle.area()}\")"
   ]
  },
  {
   "cell_type": "code",
   "execution_count": 29,
   "metadata": {},
   "outputs": [
    {
     "name": "stdout",
     "output_type": "stream",
     "text": [
      "Alice of age 15 have scored 100\n"
     ]
    }
   ],
   "source": [
    "'''\n",
    "Exercise 6: Create a Student class with __str__() method\n",
    "Create a class Student that contains attributes name, age, and marks. \n",
    "Override the __str__() method to provide a custom string representation for the object.\n",
    "'''\n",
    "class Student:\n",
    "    def __init__(self, name, age, marks):\n",
    "        self.name = name\n",
    "        self.age = age\n",
    "        self.marks = marks\n",
    "        \n",
    "    def __str__(self):\n",
    "       return f\"{self.name} of age {self.age} have scored {self.marks}\"\n",
    "\n",
    "\n",
    "student = Student(\"Alice\",15,100)\n",
    "print(student)\n"
   ]
  },
  {
   "cell_type": "code",
   "execution_count": 35,
   "metadata": {},
   "outputs": [
    {
     "name": "stdout",
     "output_type": "stream",
     "text": [
      "Error: Can't instantiate abstract class Shape without an implementation for abstract method 'area'\n",
      "\n",
      "Area of circle: 78.53981633974483\n",
      "Area of rectangle: 30\n"
     ]
    }
   ],
   "source": [
    "'''\n",
    "Exercise 7: Abstract Class Example\n",
    "Create an abstract class Shape with an abstract method area(). \n",
    "Then, create subclasses Circle and Rectangle that implement the area() method. Ensure that Shape cannot be instantiated directly.\n",
    "'''\n",
    "from abc import ABC, abstractmethod\n",
    "class Shape(ABC):\n",
    "    @abstractmethod\n",
    "    def area(self):\n",
    "        pass\n",
    "        \n",
    "class Circle(Shape):\n",
    "    def __init__(self,radius):\n",
    "        self.radius = radius\n",
    "\n",
    "    def area(self):\n",
    "        return math.pi * self.radius ** 2\n",
    "\n",
    "class Rectangle(Shape):\n",
    "    def __init__(self,length,breadth):\n",
    "        self.length = length\n",
    "        self.breadth = breadth\n",
    "    def area(self):\n",
    "        return self.length * self.breadth\n",
    "\n",
    "try:\n",
    "    some_shape = Shape()\n",
    "except TypeError as e:\n",
    "    print(f\"Error: {e}\\n\")\n",
    "    \n",
    "circle = Circle(5)\n",
    "print(f\"Area of circle: {circle.area()}\")\n",
    "\n",
    "rectangle = Rectangle(5,6)\n",
    "print(f\"Area of rectangle: {rectangle.area()}\")\n"
   ]
  },
  {
   "cell_type": "code",
   "execution_count": 36,
   "metadata": {},
   "outputs": [
    {
     "name": "stdout",
     "output_type": "stream",
     "text": [
      "Welcome Alice\n",
      "Welcome Bob\n"
     ]
    }
   ],
   "source": [
    "'''\n",
    "Exercise 8: Implement a Person class with a greet() method\n",
    "Create a Person class with a greet() method that prints a greeting message using the person's name.\n",
    "'''\n",
    "\n",
    "class Person:\n",
    "    def __init__(self,name):\n",
    "        self.name=name\n",
    "        \n",
    "    def greet(self):\n",
    "        return (f\"Welcome {self.name}\")\n",
    "\n",
    "alice = Person(\"Alice\")\n",
    "print(alice.greet())\n",
    "\n",
    "bob = Person(\"Bob\")\n",
    "print(bob.greet())\n"
   ]
  },
  {
   "cell_type": "code",
   "execution_count": 43,
   "metadata": {},
   "outputs": [
    {
     "name": "stdout",
     "output_type": "stream",
     "text": [
      "First point: Point(x=2, y=3)\n",
      "Second point: Point(x=5, y=7)\n",
      "Sum of points: Point(x=7, y=10)\n"
     ]
    }
   ],
   "source": [
    "'''\n",
    "Exercise 9: Create a class with a __add__() method to add two objects\n",
    "Create a class Point with two attributes x and y. \n",
    "Define the __add__() method to add two Point objects. When two points are added, return a new Point object with the sum of the coordinates.\n",
    "'''\n",
    "class Point:\n",
    "    def __init__(self, x, y):\n",
    "        self.x = x\n",
    "        self.y = y\n",
    "        \n",
    "    def __str__(self):\n",
    "        return f\"Point(x={self.x}, y={self.y})\"\n",
    "        \n",
    "    def __add__(self, other):\n",
    "        if isinstance(other, Point):\n",
    "            new_x = self.x + other.x\n",
    "            new_y = self.y + other.y\n",
    "            return Point(new_x, new_y)\n",
    "        \n",
    "point1 = Point(2, 3)\n",
    "point2 = Point(5, 7)\n",
    "\n",
    "sum_point = point1 + point2\n",
    "\n",
    "print(f\"First point: {point1}\")\n",
    "print(f\"Second point: {point2}\")\n",
    "print(f\"Sum of points: {sum_point}\")\n"
   ]
  },
  {
   "cell_type": "code",
   "execution_count": 53,
   "metadata": {},
   "outputs": [
    {
     "name": "stdout",
     "output_type": "stream",
     "text": [
      "Name: John, Age: 30\n",
      "Name: Jane , Age: 22, Student ID: S12345\n",
      "Name: Peter, Age: 25, Student ID: G67890, Thesis Topic: Quantum Computing\n"
     ]
    }
   ],
   "source": [
    "'''\n",
    "Exercise 10: Multi-level Inheritance Example\n",
    "Create a base class Person with a name and age attribute. Create a Student class that inherits from Person and adds an attribute student_id. \n",
    "Then, create a GraduateStudent class that inherits from Student and adds an attribute thesis_topic.\n",
    "'''\n",
    "class Person:\n",
    "    def __init__(self,name,age):\n",
    "        self.name=name\n",
    "        self.age=age\n",
    "    def __str__(self):\n",
    "        return f\"Name: {self.name}, Age: {self.age}\"\n",
    "\n",
    "class Student(Person):\n",
    "    def __init__(self,name,age,student_id):\n",
    "        super().__init__(name,age)\n",
    "        self.student_id = student_id\n",
    "    def __str__(self):\n",
    "        return f\"Name: {self.name}, Age: {self.age}, Student ID: {self.student_id}\"\n",
    "\n",
    "class GraduateStudent(Student):\n",
    "    def __init__(self,name,age,student_id,thesis_topic):\n",
    "        super().__init__(name,age,student_id)\n",
    "        self.thesis_topic = thesis_topic\n",
    "    def __str__(self):\n",
    "        return f\"Name: {self.name}, Age: {self.age}, Student ID: {self.student_id}, Thesis Topic: {self.thesis_topic}\"\n",
    "\n",
    "person = Person(\"John\", 30)\n",
    "student = Student(\"Jane \", 22, \"S12345\")\n",
    "grad_student = GraduateStudent(\"Peter\", 25, \"G67890\", \"Quantum Computing\")\n",
    "\n",
    "print(person)\n",
    "print(student)\n",
    "print(grad_student)"
   ]
  }
 ],
 "metadata": {
  "kernelspec": {
   "display_name": "Python 3 (ipykernel)",
   "language": "python",
   "name": "python3"
  },
  "language_info": {
   "codemirror_mode": {
    "name": "ipython",
    "version": 3
   },
   "file_extension": ".py",
   "mimetype": "text/x-python",
   "name": "python",
   "nbconvert_exporter": "python",
   "pygments_lexer": "ipython3",
   "version": "3.13.7"
  }
 },
 "nbformat": 4,
 "nbformat_minor": 4
}
