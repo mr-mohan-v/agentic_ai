{
 "cells": [
  {
   "cell_type": "markdown",
   "id": "3603d8a9-5276-4f91-8712-9e10b1c214bb",
   "metadata": {},
   "source": [
    "# Containers Iterators Generators"
   ]
  },
  {
   "cell_type": "markdown",
   "id": "f8e305dc",
   "metadata": {},
   "source": [
    "'''\n",
    "Exercise 1: Working with Containers\n",
    "Task: Create a list containing numbers from 1 to 10. Then, create a dictionary where the keys are the numbers and the values are their squares.\n",
    "'''"
   ]
  },
  {
   "cell_type": "code",
   "execution_count": 1,
   "id": "b9b36129",
   "metadata": {},
   "outputs": [
    {
     "name": "stdout",
     "output_type": "stream",
     "text": [
      "List: [1, 2, 3, 4, 5, 6, 7, 8, 9, 10]\n",
      "Dictionary of squares: {1: 1, 2: 4, 3: 9, 4: 16, 5: 25, 6: 36, 7: 49, 8: 64, 9: 81, 10: 100}\n"
     ]
    }
   ],
   "source": [
    "numbers_list = list(range(1, 11))\n",
    "print(f\"List: {numbers_list}\")\n",
    "\n",
    "squares_dict = {num: num**2 for num in numbers_list}\n",
    "print(f\"Dictionary of squares: {squares_dict}\")"
   ]
  },
  {
   "cell_type": "markdown",
   "id": "29a6486c",
   "metadata": {},
   "source": [
    "'''\n",
    "Exercise 2: Iterable and Iterator\n",
    "Task: Create a list of strings. Convert it into an iterator and use the iterator to print each element one by one using the next() function until it's exhausted.\n",
    "'''"
   ]
  },
  {
   "cell_type": "code",
   "execution_count": 2,
   "id": "fe6f8744",
   "metadata": {},
   "outputs": [
    {
     "name": "stdout",
     "output_type": "stream",
     "text": [
      "apple\n",
      "banana\n",
      "cherry\n",
      "date\n",
      "Iterator is exhausted.\n"
     ]
    }
   ],
   "source": [
    "my_list = [\"apple\", \"banana\", \"cherry\", \"date\"]\n",
    "my_iterator = iter(my_list)\n",
    "\n",
    "try:\n",
    "    while True:\n",
    "        item = next(my_iterator)\n",
    "        print(item)\n",
    "except StopIteration:\n",
    "    print(\"Iterator is exhausted.\")"
   ]
  },
  {
   "cell_type": "markdown",
   "id": "5b86b606",
   "metadata": {},
   "source": [
    "'''\n",
    "Exercise 3: Generator Function\n",
    "Task: Write a generator function that yields even numbers from 2 to 20. Use the generator to print each even number.\n",
    "'''"
   ]
  },
  {
   "cell_type": "code",
   "execution_count": 3,
   "id": "9cdedee8",
   "metadata": {},
   "outputs": [
    {
     "name": "stdout",
     "output_type": "stream",
     "text": [
      "2\n",
      "4\n",
      "6\n",
      "8\n",
      "10\n",
      "12\n",
      "14\n",
      "16\n",
      "18\n",
      "20\n"
     ]
    }
   ],
   "source": [
    "def even_numbers_generator():\n",
    "    for i in range(2, 21, 2):\n",
    "        yield i\n",
    "\n",
    "even_gen = even_numbers_generator()\n",
    "for num in even_gen:\n",
    "    print(num)"
   ]
  },
  {
   "cell_type": "markdown",
   "id": "079be951",
   "metadata": {},
   "source": [
    "'''\n",
    "Exercise 4: Decorator for Timing Function\n",
    "Task: Create a decorator that measures the time taken by a function to execute. Use it to time a function that sums the numbers from 1 to 100.\n",
    "'''"
   ]
  },
  {
   "cell_type": "code",
   "execution_count": 4,
   "id": "b6afc046",
   "metadata": {},
   "outputs": [
    {
     "name": "stdout",
     "output_type": "stream",
     "text": [
      "Function 'sum_up_to_hundred' took 0.000012 seconds to execute.\n"
     ]
    },
    {
     "data": {
      "text/plain": [
       "5050"
      ]
     },
     "execution_count": 4,
     "metadata": {},
     "output_type": "execute_result"
    }
   ],
   "source": [
    "import time\n",
    "\n",
    "def timer_decorator(func):\n",
    "    def wrapper(*args, **kwargs):\n",
    "        start_time = time.time()\n",
    "        result = func(*args, **kwargs)\n",
    "        end_time = time.time()\n",
    "        print(f\"Function '{func.__name__}' took {end_time - start_time:.6f} seconds to execute.\")\n",
    "        return result\n",
    "    return wrapper\n",
    "\n",
    "@timer_decorator\n",
    "def sum_up_to_hundred():\n",
    "    total = 0\n",
    "    for i in range(1, 101):\n",
    "        total += i\n",
    "    return total\n",
    "\n",
    "sum_up_to_hundred()"
   ]
  },
  {
   "cell_type": "markdown",
   "id": "cbf5e410",
   "metadata": {},
   "source": [
    "'''\n",
    "Exercise 5: Container with Set\n",
    "Task: Create a set of numbers. Add a few numbers to it, remove one number, and print the resulting set.\n",
    "'''"
   ]
  },
  {
   "cell_type": "code",
   "execution_count": 5,
   "id": "713bb299",
   "metadata": {},
   "outputs": [
    {
     "name": "stdout",
     "output_type": "stream",
     "text": [
      "Initial set: {1, 2, 3, 4, 5}\n",
      "After adding elements: {1, 2, 3, 4, 5, 6, 7}\n",
      "After removing an element: {1, 2, 4, 5, 6, 7}\n"
     ]
    }
   ],
   "source": [
    "my_set = {1, 2, 3, 4, 5}\n",
    "print(f\"Initial set: {my_set}\")\n",
    "\n",
    "my_set.add(6)\n",
    "my_set.add(7)\n",
    "print(f\"After adding elements: {my_set}\")\n",
    "\n",
    "my_set.remove(3)\n",
    "print(f\"After removing an element: {my_set}\")"
   ]
  },
  {
   "cell_type": "markdown",
   "id": "14482595",
   "metadata": {},
   "source": [
    "'''\n",
    "Exercise 6: Iterable and Iterator with Custom Class\n",
    "Task: Create a custom class that implements both the iterable and iterator protocols. The class should return the squares of numbers from 1 to 5.\n",
    "'''"
   ]
  },
  {
   "cell_type": "code",
   "execution_count": 8,
   "id": "a675db37",
   "metadata": {},
   "outputs": [
    {
     "name": "stdout",
     "output_type": "stream",
     "text": [
      "1\n",
      "4\n",
      "9\n",
      "16\n",
      "25\n"
     ]
    }
   ],
   "source": [
    "class SquareIterator:\n",
    "    def __init__(self):\n",
    "        self.current = 1\n",
    "\n",
    "    def __iter__(self):\n",
    "        return self\n",
    "\n",
    "    def __next__(self):\n",
    "        if self.current > 5:\n",
    "            raise StopIteration\n",
    "        result = self.current ** 2\n",
    "        self.current += 1\n",
    "        return result\n",
    "\n",
    "squares = SquareIterator()\n",
    "for square in squares:\n",
    "    print(square)"
   ]
  },
  {
   "cell_type": "markdown",
   "id": "5cebcca6",
   "metadata": {},
   "source": [
    "'''\n",
    "Exercise 7: Decorator to Add Logging\n",
    "Task: Create a decorator that logs the name of the function being called and its arguments. Apply it to a function that multiplies two numbers.\n",
    "'''"
   ]
  },
  {
   "cell_type": "code",
   "execution_count": 9,
   "id": "6c3cedd5",
   "metadata": {},
   "outputs": [
    {
     "name": "stdout",
     "output_type": "stream",
     "text": [
      "Calling function 'multiply' with arguments: (5, 4)\n",
      "Result: 20\n"
     ]
    }
   ],
   "source": [
    "def log_decorator(func):\n",
    "    def wrapper(*args, **kwargs):\n",
    "        print(f\"Calling function '{func.__name__}' with arguments: {args}\")\n",
    "        result = func(*args, **kwargs)\n",
    "        return result\n",
    "    return wrapper\n",
    "\n",
    "@log_decorator\n",
    "def multiply(a, b):\n",
    "    return a * b\n",
    "\n",
    "result = multiply(5, 4)\n",
    "print(f\"Result: {result}\")"
   ]
  },
  {
   "cell_type": "markdown",
   "id": "de098516",
   "metadata": {},
   "source": [
    "'''\n",
    "Exercise 8: Using Generator to Create Fibonacci Series\n",
    "Task: Create a generator function that yields the Fibonacci series up to a given number n. Print the Fibonacci numbers.\n",
    "'''"
   ]
  },
  {
   "cell_type": "code",
   "execution_count": 10,
   "id": "57409488",
   "metadata": {},
   "outputs": [
    {
     "name": "stdout",
     "output_type": "stream",
     "text": [
      "0\n",
      "1\n",
      "1\n",
      "2\n",
      "3\n",
      "5\n",
      "8\n",
      "13\n",
      "21\n",
      "34\n"
     ]
    }
   ],
   "source": [
    "def fibonacci_generator(n):\n",
    "    a, b = 0, 1\n",
    "    count = 0\n",
    "    while count < n:\n",
    "        yield a\n",
    "        a, b = b, a + b\n",
    "        count += 1\n",
    "\n",
    "fib_gen = fibonacci_generator(10)\n",
    "for num in fib_gen:\n",
    "    print(num)"
   ]
  },
  {
   "cell_type": "markdown",
   "id": "54b1d3d3",
   "metadata": {},
   "source": [
    "'''\n",
    "Exercise 9: Nested Decorators\n",
    "Task: Write two decorators: one that adds 5 to the result of a function and another that multiplies the result by 2. Apply both decorators to a function that returns the number 10.\n",
    "'''"
   ]
  },
  {
   "cell_type": "code",
   "execution_count": 11,
   "id": "e4fa22c6",
   "metadata": {},
   "outputs": [
    {
     "name": "stdout",
     "output_type": "stream",
     "text": [
      "Result with nested decorators: 30\n"
     ]
    }
   ],
   "source": [
    "def add_five(func):\n",
    "    def wrapper(*args, **kwargs):\n",
    "        return func(*args, **kwargs) + 5\n",
    "    return wrapper\n",
    "\n",
    "def multiply_by_two(func):\n",
    "    def wrapper(*args, **kwargs):\n",
    "        return func(*args, **kwargs) * 2\n",
    "    return wrapper\n",
    "\n",
    "@multiply_by_two\n",
    "@add_five\n",
    "def get_number():\n",
    "    return 10\n",
    "\n",
    "result = get_number()\n",
    "print(f\"Result with nested decorators: {result}\")"
   ]
  },
  {
   "cell_type": "markdown",
   "id": "86b81c21",
   "metadata": {},
   "source": [
    "'''\n",
    "Exercise 10: Iterator to Reverse a List\n",
    "Task: Create an iterator that reverses a list. Use it to print the elements of a list in reverse order.\n",
    "'''"
   ]
  },
  {
   "cell_type": "code",
   "execution_count": 18,
   "id": "1805d642",
   "metadata": {},
   "outputs": [
    {
     "name": "stdout",
     "output_type": "stream",
     "text": [
      "50\n",
      "40\n",
      "30\n",
      "20\n",
      "10\n"
     ]
    }
   ],
   "source": [
    "class ReverseIterator:\n",
    "    def __init__(self, my_list):\n",
    "        self.my_list = my_list\n",
    "        self.index = len(my_list)\n",
    "\n",
    "    def __iter__(self):\n",
    "        return self\n",
    "\n",
    "    def __next__(self):\n",
    "        if self.index == 0:\n",
    "            raise StopIteration\n",
    "        self.index -= 1\n",
    "        return self.my_list[self.index]\n",
    "\n",
    "my_list = [10, 20, 30, 40, 50]\n",
    "reverse_iter = ReverseIterator(my_list)\n",
    "\n",
    "for item in reverse_iter:\n",
    "    print(item)"
   ]
  }
 ],
 "metadata": {
  "kernelspec": {
   "display_name": "Python 3 (ipykernel)",
   "language": "python",
   "name": "python3"
  },
  "language_info": {
   "codemirror_mode": {
    "name": "ipython",
    "version": 3
   },
   "file_extension": ".py",
   "mimetype": "text/x-python",
   "name": "python",
   "nbconvert_exporter": "python",
   "pygments_lexer": "ipython3",
   "version": "3.13.7"
  }
 },
 "nbformat": 4,
 "nbformat_minor": 5
}
