{
 "cells": [
  {
   "cell_type": "markdown",
   "id": "336c1701-e310-4b52-9faa-e7885e178263",
   "metadata": {},
   "source": [
    "# File Handling"
   ]
  },
  {
   "cell_type": "markdown",
   "id": "d05592c2",
   "metadata": {},
   "source": [
    "'''\n",
    "1. Exercise: Open a File and Read its Contents\n",
    "Task: Open a file named example.txt and read its entire contents. Print the content of the file.\n",
    "'''"
   ]
  },
  {
   "cell_type": "code",
   "execution_count": 1,
   "id": "a5f6650e",
   "metadata": {},
   "outputs": [
    {
     "name": "stdout",
     "output_type": "stream",
     "text": [
      "example\n",
      "text\n",
      "file\n"
     ]
    }
   ],
   "source": [
    "with open('example.txt', 'r') as file:\n",
    "    content = file.read()\n",
    "    print(content)"
   ]
  },
  {
   "cell_type": "markdown",
   "id": "654027c9",
   "metadata": {},
   "source": [
    "'''\n",
    "2. Exercise: Read First Line of the File\n",
    "Task: Open a file sample.txt and print only the first line of the file.\n",
    "'''"
   ]
  },
  {
   "cell_type": "code",
   "execution_count": 2,
   "id": "35dbad1c",
   "metadata": {},
   "outputs": [
    {
     "name": "stdout",
     "output_type": "stream",
     "text": [
      "sample\n",
      "\n"
     ]
    }
   ],
   "source": [
    "with open('sample.txt', 'r') as file:\n",
    "    first_line = file.readline()\n",
    "    print(first_line)"
   ]
  },
  {
   "cell_type": "markdown",
   "id": "4dfa71f8",
   "metadata": {},
   "source": [
    "'''\n",
    "3. Exercise: Write Data to a File\n",
    "Task: Create a new file data.txt and write the following text to it:\n",
    "\n",
    "Python is great.\n",
    "File handling is essential.\n",
    "Enjoy coding!\n",
    "'''"
   ]
  },
  {
   "cell_type": "code",
   "execution_count": 3,
   "id": "89e38b42",
   "metadata": {},
   "outputs": [],
   "source": [
    "with open('data.txt', 'w') as file:\n",
    "    file.write('Python is great.\\n')\n",
    "    file.write('File handling is essential.\\n')\n",
    "    file.write('Enjoy coding!\\n')"
   ]
  },
  {
   "cell_type": "markdown",
   "id": "1b2e22f3",
   "metadata": {},
   "source": [
    "'''\n",
    "4. Exercise: Append Data to an Existing File\n",
    "Task: Open the existing file data.txt and append the following line to the file:\n",
    "\n",
    "File handling makes life easier.\n",
    "'''"
   ]
  },
  {
   "cell_type": "code",
   "execution_count": 4,
   "id": "ad7cd5f0",
   "metadata": {},
   "outputs": [],
   "source": [
    "with open('data.txt', 'a') as file:\n",
    "    file.write('File handling makes life easier.\\n')"
   ]
  },
  {
   "cell_type": "markdown",
   "id": "7fc378d5",
   "metadata": {},
   "source": [
    "'''\n",
    "5. Exercise: Read All Lines of a File\n",
    "Task: Open a file lines.txt and read all lines into a list. Print the list.\n",
    "'''"
   ]
  },
  {
   "cell_type": "code",
   "execution_count": 5,
   "id": "035fe74c",
   "metadata": {},
   "outputs": [
    {
     "name": "stdout",
     "output_type": "stream",
     "text": [
      "['lines\\n', 'text\\n', 'file']\n"
     ]
    }
   ],
   "source": [
    "with open('lines.txt', 'r') as file:\n",
    "    lines = file.readlines()\n",
    "    print(lines)"
   ]
  },
  {
   "cell_type": "markdown",
   "id": "214c498c",
   "metadata": {},
   "source": [
    "'''\n",
    "6. Exercise: Use seek() and tell() Methods\n",
    "Task: Open a file example.txt and use the seek() method to move the cursor to the 5th position. Then, use tell() to get the current cursor position.\n",
    "'''"
   ]
  },
  {
   "cell_type": "code",
   "execution_count": 6,
   "id": "2d584b22",
   "metadata": {},
   "outputs": [
    {
     "name": "stdout",
     "output_type": "stream",
     "text": [
      "Current cursor position: 5\n"
     ]
    }
   ],
   "source": [
    "with open('example.txt', 'r') as file:\n",
    "    file.seek(5)\n",
    "    position = file.tell()\n",
    "    print(f'Current cursor position: {position}')"
   ]
  },
  {
   "cell_type": "markdown",
   "id": "b4ca3afb",
   "metadata": {},
   "source": [
    "'''\n",
    "7. Exercise: Count the Number of Lines in a File\n",
    "Task: Open the file count_lines.txt and count how many lines it contains. Print the count.\n",
    "'''"
   ]
  },
  {
   "cell_type": "code",
   "execution_count": 7,
   "id": "478b5b5a",
   "metadata": {},
   "outputs": [
    {
     "name": "stdout",
     "output_type": "stream",
     "text": [
      "The file contains 4 lines.\n"
     ]
    }
   ],
   "source": [
    "with open('count_lines.txt', 'r') as file:\n",
    "    line_count = len(file.readlines())\n",
    "    print(f'The file contains {line_count} lines.')"
   ]
  },
  {
   "cell_type": "markdown",
   "id": "d3195536",
   "metadata": {},
   "source": [
    "'''\n",
    "8. Exercise: Delete a File\n",
    "Task: Write a Python program to delete a file named delete_me.txt.\n",
    "'''"
   ]
  },
  {
   "cell_type": "code",
   "execution_count": 8,
   "id": "42250dbe",
   "metadata": {},
   "outputs": [
    {
     "name": "stdout",
     "output_type": "stream",
     "text": [
      "File does not exist.\n"
     ]
    }
   ],
   "source": [
    "import os\n",
    "\n",
    "if os.path.exists('delete_me.txt'):\n",
    "    os.remove('delete_me.txt')\n",
    "    print('File deleted successfully.')\n",
    "else:\n",
    "    print('File does not exist.')"
   ]
  },
  {
   "cell_type": "markdown",
   "id": "e185dafe",
   "metadata": {},
   "source": [
    "'''\n",
    "9. Exercise: Create and Write Multiple Lines to a File\n",
    "Task: Create a file named newfile.txt and write the following lines to it:\n",
    "\n",
    "Line 1: Hello\n",
    "Line 2: This is Python file handling.\n",
    "Line 3: Have fun!\n",
    "'''"
   ]
  },
  {
   "cell_type": "code",
   "execution_count": 9,
   "id": "e0416a82",
   "metadata": {},
   "outputs": [],
   "source": [
    "lines_to_write = [\n",
    "    'Line 1: Hello\\n',\n",
    "    'Line 2: This is Python file handling.\\n',\n",
    "    'Line 3: Have fun!\\n'\n",
    "]\n",
    "\n",
    "with open('newfile.txt', 'w') as file:\n",
    "    file.writelines(lines_to_write)"
   ]
  },
  {
   "cell_type": "markdown",
   "id": "eaa5e3df",
   "metadata": {},
   "source": [
    "'''\n",
    "10. Exercise: Read File in Chunks\n",
    "Task: Open the file large_file.txt and read it in chunks of 10 characters. Print each chunk until the end of the file.\n",
    "'''"
   ]
  },
  {
   "cell_type": "code",
   "execution_count": 10,
   "id": "6f7abe68",
   "metadata": {},
   "outputs": [
    {
     "name": "stdout",
     "output_type": "stream",
     "text": [
      "large_file\n",
      " jupyter n\n",
      "otebook te\n",
      "xt file\n"
     ]
    }
   ],
   "source": [
    "with open('large_file.txt', 'r') as file:\n",
    "    while True:\n",
    "        chunk = file.read(10)\n",
    "        if not chunk:\n",
    "            break\n",
    "        print(chunk)"
   ]
  }
 ],
 "metadata": {
  "kernelspec": {
   "display_name": "Python 3 (ipykernel)",
   "language": "python",
   "name": "python3"
  },
  "language_info": {
   "codemirror_mode": {
    "name": "ipython",
    "version": 3
   },
   "file_extension": ".py",
   "mimetype": "text/x-python",
   "name": "python",
   "nbconvert_exporter": "python",
   "pygments_lexer": "ipython3",
   "version": "3.13.7"
  }
 },
 "nbformat": 4,
 "nbformat_minor": 5
}
