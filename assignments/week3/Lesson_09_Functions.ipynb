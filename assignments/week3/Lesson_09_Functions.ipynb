{
 "cells": [
  {
   "cell_type": "markdown",
   "metadata": {},
   "source": [
    "# Functions"
   ]
  },
  {
   "cell_type": "markdown",
   "metadata": {},
   "source": [
    "\n",
    "\n",
    "A function in Python is a block of organized code designed to carry out a specific task. Functions help break down our programs into smaller, manageable chunks, which makes them easier to read and maintain.\n",
    "\n",
    "You can pass information into a function as arguments, and inside the function, we can specify parameters. \n",
    "\n",
    "\n",
    "\n",
    "### Three types of functions in Python:-\n",
    "\n",
    "- __Built-in function :-__  Python predefined functions that are readily available for use like min() , max() , sum() , print() etc.\n",
    "\n",
    "- __User-Defined Functions:-__ Function that we define ourselves to perform a specific task.\n",
    "\n",
    "- __Anonymous functions :__ Function that is defined without a name. Anonymous functions are also called as lambda functions. They are not declared with the __def__ keyword.\n",
    "\n",
    "### Syntax\n",
    "Here’s how you define a basic function in Python"
   ]
  },
  {
   "cell_type": "markdown",
   "metadata": {},
   "source": [
    "### Modularity\n",
    "Separating functions for Single unit of work for better management and testing."
   ]
  },
  {
   "cell_type": "code",
   "execution_count": 4,
   "metadata": {},
   "outputs": [],
   "source": [
    "# function defination\n",
    "\n",
    "def myfunc():\n",
    "  print(\"Hello Python Lovers\")\n"
   ]
  },
  {
   "cell_type": "code",
   "execution_count": 5,
   "metadata": {},
   "outputs": [
    {
     "name": "stdout",
     "output_type": "stream",
     "text": [
      "Hello Python Lovers\n"
     ]
    }
   ],
   "source": [
    "# Once defined, we call the function to execute it. \n",
    "# Let’s see how that looks in action!\n",
    "\n",
    "myfunc()"
   ]
  },
  {
   "cell_type": "markdown",
   "metadata": {},
   "source": [
    "### Parameter VS Argument\n",
    "\n",
    " - A parameter is the variable listed inside the parentheses in the function definition.\n",
    "\n",
    " - An argument is the value that is sent to the function when it is called."
   ]
  },
  {
   "cell_type": "code",
   "execution_count": 6,
   "metadata": {},
   "outputs": [
    {
     "name": "stdout",
     "output_type": "stream",
     "text": [
      "Name :-  Akash\n",
      "User ID is :-  akash123\n",
      "Country :-  India\n"
     ]
    }
   ],
   "source": [
    "# Function to print User details\n",
    "\n",
    "def details(name,userid,country): \n",
    "    print('Name :- ', name)\n",
    "    print('User ID is :- ', userid)\n",
    "    print('Country :- ',country)\n",
    "    \n",
    "details('Akash' , 'akash123' , 'India')"
   ]
  },
  {
   "cell_type": "code",
   "execution_count": 7,
   "metadata": {},
   "outputs": [
    {
     "data": {
      "text/plain": [
       "100"
      ]
     },
     "execution_count": 7,
     "metadata": {},
     "output_type": "execute_result"
    }
   ],
   "source": [
    "#function to find square of a number\n",
    "\n",
    "def square (n): \n",
    "    n= n*n\n",
    "    return n\n",
    "\n",
    "square (10)"
   ]
  },
  {
   "cell_type": "code",
   "execution_count": 8,
   "metadata": {},
   "outputs": [
    {
     "name": "stdout",
     "output_type": "stream",
     "text": [
      "3  is odd number\n",
      "4  is even number\n",
      "This function will check whether a number is even or odd\n"
     ]
    }
   ],
   "source": [
    "#Even odd test\n",
    "\n",
    "def even_odd (num): \n",
    "    \"\"\" This function will check whether a number is even or odd\"\"\"\n",
    "    if num % 2 ==0:\n",
    "        print (num, ' is even number')\n",
    "    else:\n",
    "        print (num, ' is odd number')\n",
    "\n",
    "even_odd(3)\n",
    "even_odd(4)\n",
    "print(even_odd.__doc__) # Print function documentation string"
   ]
  },
  {
   "cell_type": "code",
   "execution_count": 9,
   "metadata": {},
   "outputs": [
    {
     "name": "stdout",
     "output_type": "stream",
     "text": [
      "Akash Ajay Kale\n"
     ]
    }
   ],
   "source": [
    "def fullname (firstname , middlename ,lastname): #Concatenate Strings\n",
    "    fullname = \"{} {} {}\".format(firstname,middlename,lastname)\n",
    "    print (fullname)\n",
    "\n",
    "fullname('Akash' , 'Ajay' , 'Kale')"
   ]
  },
  {
   "cell_type": "code",
   "execution_count": 11,
   "metadata": {},
   "outputs": [
    {
     "name": "stdout",
     "output_type": "stream",
     "text": [
      "Akash Ajay Kale\n"
     ]
    }
   ],
   "source": [
    "def fullname (firstname , middlename ,lastname): #Concatenate Strings\n",
    "    fullname = \"{} {} {}\".format(firstname,middlename,lastname)\n",
    "    print (fullname)\n",
    "\n",
    "fullname(lastname = 'Kale' , middlename='Ajay' , firstname='Akash') # Keyword Arguments. Order of the arguments does not matter."
   ]
  },
  {
   "cell_type": "code",
   "execution_count": 13,
   "metadata": {},
   "outputs": [
    {
     "ename": "TypeError",
     "evalue": "fullname() missing 2 required positional arguments: 'middlename' and 'lastname'",
     "output_type": "error",
     "traceback": [
      "\u001b[31m---------------------------------------------------------------------------\u001b[39m",
      "\u001b[31mTypeError\u001b[39m                                 Traceback (most recent call last)",
      "\u001b[36mCell\u001b[39m\u001b[36m \u001b[39m\u001b[32mIn[13]\u001b[39m\u001b[32m, line 3\u001b[39m\n\u001b[32m      1\u001b[39m \u001b[38;5;66;03m# This will throw error as function is expecting 3 arguments.\u001b[39;00m\n\u001b[32m----> \u001b[39m\u001b[32m3\u001b[39m \u001b[43mfullname\u001b[49m\u001b[43m \u001b[49m\u001b[43m(\u001b[49m\u001b[33;43m'\u001b[39;49m\u001b[33;43mAkash\u001b[39;49m\u001b[33;43m'\u001b[39;49m\u001b[43m)\u001b[49m \n",
      "\u001b[31mTypeError\u001b[39m: fullname() missing 2 required positional arguments: 'middlename' and 'lastname'"
     ]
    }
   ],
   "source": [
    "# This will throw error as function is expecting 3 arguments.\n",
    "\n",
    "fullname ('Akash') "
   ]
  },
  {
   "cell_type": "code",
   "execution_count": 14,
   "metadata": {},
   "outputs": [
    {
     "name": "stdout",
     "output_type": "stream",
     "text": [
      "Most Populous City :-  Mumbai\n"
     ]
    }
   ],
   "source": [
    "def myfunc(city = 'Mumbai'):\n",
    "    print('Most Populous City :- ', city)\n",
    "    \n",
    "myfunc() # When a function is called without an argument it will use default value"
   ]
  },
  {
   "cell_type": "code",
   "execution_count": 15,
   "metadata": {},
   "outputs": [
    {
     "name": "stdout",
     "output_type": "stream",
     "text": [
      "100\n",
      "100\n"
     ]
    }
   ],
   "source": [
    "var1 = 100 # Variable with Global scope.\n",
    "\n",
    "def myfunc():\n",
    "    print(var1) # Value 100 will be displayed due to global scope of var1\n",
    "\n",
    "    \n",
    "myfunc()\n",
    "print(var1)"
   ]
  },
  {
   "cell_type": "code",
   "execution_count": 16,
   "metadata": {},
   "outputs": [
    {
     "name": "stdout",
     "output_type": "stream",
     "text": [
      "10\n"
     ]
    },
    {
     "ename": "NameError",
     "evalue": "name 'var2' is not defined",
     "output_type": "error",
     "traceback": [
      "\u001b[31m---------------------------------------------------------------------------\u001b[39m",
      "\u001b[31mNameError\u001b[39m                                 Traceback (most recent call last)",
      "\u001b[36mCell\u001b[39m\u001b[36m \u001b[39m\u001b[32mIn[16]\u001b[39m\u001b[32m, line 11\u001b[39m\n\u001b[32m      9\u001b[39m     \u001b[38;5;28mprint\u001b[39m(var2) \n\u001b[32m     10\u001b[39m myfunc1()\n\u001b[32m---> \u001b[39m\u001b[32m11\u001b[39m \u001b[43mmyfunc2\u001b[49m\u001b[43m(\u001b[49m\u001b[43m)\u001b[49m\n",
      "\u001b[36mCell\u001b[39m\u001b[36m \u001b[39m\u001b[32mIn[16]\u001b[39m\u001b[32m, line 9\u001b[39m, in \u001b[36mmyfunc2\u001b[39m\u001b[34m()\u001b[39m\n\u001b[32m      8\u001b[39m \u001b[38;5;28;01mdef\u001b[39;00m\u001b[38;5;250m \u001b[39m\u001b[34mmyfunc2\u001b[39m():\n\u001b[32m----> \u001b[39m\u001b[32m9\u001b[39m     \u001b[38;5;28mprint\u001b[39m(\u001b[43mvar2\u001b[49m)\n",
      "\u001b[31mNameError\u001b[39m: name 'var2' is not defined"
     ]
    }
   ],
   "source": [
    "def myfunc1():\n",
    "    var2 = 10  # Variable with Local scope\n",
    "    print(var2)\n",
    "\n",
    "# This will throw error because var2 has a local scope. \n",
    "# Var2 is only accessible in myfunc1()\n",
    "\n",
    "def myfunc2():\n",
    "    print(var2) \n",
    "myfunc1()\n",
    "myfunc2()"
   ]
  },
  {
   "cell_type": "markdown",
   "metadata": {},
   "source": [
    "In Python, we have global and local scopes. \n",
    "\n",
    "A global variable can be accessed inside functions, but a local variable is only accessible within the function where it’s defined."
   ]
  },
  {
   "cell_type": "code",
   "execution_count": 17,
   "metadata": {},
   "outputs": [
    {
     "name": "stdout",
     "output_type": "stream",
     "text": [
      "99\n",
      "100\n"
     ]
    }
   ],
   "source": [
    "# Variable with Global scope.\n",
    "\n",
    "\n",
    "var1 = 100 \n",
    "\n",
    "def myfunc():\n",
    "    var1 = 99  # Local scope\n",
    "    print(var1)\n",
    "\n",
    "    \n",
    "myfunc()  \n",
    "\n",
    "# The original value of var1 (100) will be retained due to global scope.\n",
    "\n",
    "print(var1) "
   ]
  },
  {
   "cell_type": "code",
   "execution_count": 18,
   "metadata": {},
   "outputs": [
    {
     "name": "stdout",
     "output_type": "stream",
     "text": [
      "\"List1\" before calling the function:-  [11, 22, 33, 44, 55]\n",
      "\"List1\" after calling the function:-  [22, 33, 44, 55]\n"
     ]
    }
   ],
   "source": [
    "list1 = [11,22,33,44,55]\n",
    "\n",
    "def myfunc(list1):\n",
    "    del list1[0]\n",
    "\n",
    "print('\"List1\" before calling the function:- ',list1)\n",
    "# Pass by reference \n",
    "# Any change in the parameter within the function is reflected back in the calling function.\n",
    "myfunc(list1)  \n",
    "print('\"List1\" after calling the function:- ',list1)"
   ]
  },
  {
   "cell_type": "code",
   "execution_count": 19,
   "metadata": {},
   "outputs": [
    {
     "name": "stdout",
     "output_type": "stream",
     "text": [
      "\"List1\" before calling the function:-  [11, 22, 33, 44, 55]\n",
      "\"List1\" after calling the function:-  [11, 22, 33, 44, 55, 100]\n"
     ]
    }
   ],
   "source": [
    "list1 = [11,22,33,44,55]\n",
    "\n",
    "def myfunc(list1):\n",
    "    list1.append(100)\n",
    "\n",
    "print('\"List1\" before calling the function:- ',list1)\n",
    "myfunc(list1)  # Pass by reference \n",
    "print('\"List1\" after calling the function:- ',list1)"
   ]
  },
  {
   "cell_type": "code",
   "execution_count": 21,
   "metadata": {},
   "outputs": [
    {
     "name": "stdout",
     "output_type": "stream",
     "text": [
      "\"List1\" before calling the function:-  [11, 22, 33, 44, 55]\n",
      "\"List1\" after calling the function:-  [11, 22, 33, 44, 55]\n"
     ]
    }
   ],
   "source": [
    "list1 = [11,22,33,44,55]\n",
    "\n",
    "def myfunc(list1):\n",
    "    list1 = [10,100,1000,10000] # link of 'list1' with previous object is broken now as new object is assigned to 'list1'.\n",
    "\n",
    "print('\"List1\" before calling the function:- ',list1)\n",
    "myfunc(list1)  # Pass by reference \n",
    "print('\"List1\" after calling the function:- ',list1)"
   ]
  },
  {
   "cell_type": "code",
   "execution_count": 22,
   "metadata": {},
   "outputs": [
    {
     "data": {
      "text/plain": [
       "(10, 20)"
      ]
     },
     "execution_count": 22,
     "metadata": {},
     "output_type": "execute_result"
    }
   ],
   "source": [
    "def swap(a,b):\n",
    "    temp = a\n",
    "    a = b      # link of 'a' with previous object is broken now as new object is assigned to 'a'. \n",
    "    b = temp   # link of 'b' with previous object is broken now as new object is assigned to 'b'. \n",
    "\n",
    "a = 10\n",
    "b = 20\n",
    "swap(a,b)\n",
    "a,b"
   ]
  },
  {
   "cell_type": "code",
   "execution_count": 23,
   "metadata": {},
   "outputs": [
    {
     "data": {
      "text/plain": [
       "24"
      ]
     },
     "execution_count": 23,
     "metadata": {},
     "output_type": "execute_result"
    }
   ],
   "source": [
    "def factorial(num):  # Calculate factorial of a number using recursive function call.\n",
    "    if num <=1 :\n",
    "        return 1\n",
    "    else:\n",
    "        return num * factorial(num-1)\n",
    "    \n",
    "factorial(4)"
   ]
  },
  {
   "cell_type": "code",
   "execution_count": 24,
   "metadata": {},
   "outputs": [
    {
     "data": {
      "text/plain": [
       "15"
      ]
     },
     "execution_count": 24,
     "metadata": {},
     "output_type": "execute_result"
    }
   ],
   "source": [
    "def add(num):  # Sum of first n natural numbers\n",
    "    if num == 0:\n",
    "        return 0\n",
    "    else:\n",
    "        return num + add(num-1)\n",
    "\n",
    "add(5) # Sum of first five natural numbers (1,2,3,4,5)"
   ]
  },
  {
   "cell_type": "code",
   "execution_count": 25,
   "metadata": {},
   "outputs": [
    {
     "name": "stdin",
     "output_type": "stream",
     "text": [
      "How many fibonacci numbers you want to generate - 10\n"
     ]
    },
    {
     "name": "stdout",
     "output_type": "stream",
     "text": [
      "0\n",
      "1\n",
      "1\n",
      "2\n",
      "3\n",
      "5\n",
      "8\n",
      "13\n",
      "21\n",
      "34\n"
     ]
    }
   ],
   "source": [
    "def fiboacci(num):\n",
    "    if num <= 1:\n",
    "        return num\n",
    "    if num == 2:\n",
    "        return 1\n",
    "    else:  \n",
    "        return(fiboacci(num-1) + fiboacci(num-2))  \n",
    "\n",
    "nums = int(input(\"How many fibonacci numbers you want to generate -\"))\n",
    "\n",
    "\n",
    "\n",
    "for i in range(nums):\n",
    "    print(fiboacci(i))  # Generate Fibonacci series"
   ]
  },
  {
   "cell_type": "markdown",
   "metadata": {},
   "source": [
    "# args & kwargs"
   ]
  },
  {
   "cell_type": "markdown",
   "metadata": {},
   "source": [
    " *__args__\n",
    "- When we are not sure about the number of arguments being passed to a function then we can use *args as function parameter.\n",
    "\n",
    "- *args allow us to pass the variable number of __Non Keyword Arguments__ to function.\n",
    "\n",
    "- We can simply use an asterisk * before the parameter name to pass variable length arguments.\n",
    "\n",
    "- The arguments are always passed as a tuple.\n",
    "\n",
    "- We can rename it to anything as long as it is preceded by a single asterisk (*). It's best practice to keep naming it args to make it immediately recognizable."
   ]
  },
  {
   "cell_type": "markdown",
   "metadata": {},
   "source": [
    "__**kwargs__\n",
    "- **kwargs allows us to pass the variable number of __Keyword Arguments__ to the function.\n",
    "\n",
    "- We can simply use an double asterisk ** before the parameter name to pass variable length arguments.\n",
    "\n",
    "- The arguments are passed as a dictionary.\n",
    "\n",
    "- We can rename it to anything as long as it is preceded by a double asterisk (**). It's best practice to keep naming it kwargs to make it immediately recognizable.\n",
    "\n"
   ]
  },
  {
   "cell_type": "code",
   "execution_count": 26,
   "metadata": {},
   "outputs": [
    {
     "name": "stdout",
     "output_type": "stream",
     "text": [
      "60\n"
     ]
    }
   ],
   "source": [
    "def add(a,b,c):\n",
    "    return a+b+c\n",
    "    \n",
    "print(add(10,20,30)) # Sum of two numbers"
   ]
  },
  {
   "cell_type": "code",
   "execution_count": 27,
   "metadata": {},
   "outputs": [
    {
     "ename": "SyntaxError",
     "evalue": "invalid syntax (1634393168.py, line 1)",
     "output_type": "error",
     "traceback": [
      "  \u001b[36mCell\u001b[39m\u001b[36m \u001b[39m\u001b[32mIn[27]\u001b[39m\u001b[32m, line 1\u001b[39m\n\u001b[31m    \u001b[39m\u001b[31mprint(add(1,2,3,4)) '''This will throw below error as this function will only take two argumengts.\u001b[39m\n                        ^\n\u001b[31mSyntaxError\u001b[39m\u001b[31m:\u001b[39m invalid syntax\n"
     ]
    }
   ],
   "source": [
    "print(add(1,2,3,4)) '''This will throw below error as this function will only take two argumengts. \n",
    "If we want to make argument list dynamic then *args wil come in picture'''"
   ]
  },
  {
   "cell_type": "code",
   "execution_count": 28,
   "metadata": {},
   "outputs": [
    {
     "name": "stdout",
     "output_type": "stream",
     "text": [
      "arg_1: 1\n",
      "arg_2: 2\n",
      "arg_3: 3\n"
     ]
    }
   ],
   "source": [
    "def some_args(arg_1, arg_2, arg_3):\n",
    "    print(\"arg_1:\", arg_1)\n",
    "    print(\"arg_2:\", arg_2)\n",
    "    print(\"arg_3:\", arg_3)\n",
    "\n",
    "my_list = [2, 3]\n",
    "some_args(1, *my_list)"
   ]
  },
  {
   "cell_type": "code",
   "execution_count": 32,
   "metadata": {},
   "outputs": [
    {
     "name": "stdout",
     "output_type": "stream",
     "text": [
      "6\n",
      "10\n",
      "15\n",
      "21\n",
      "28\n"
     ]
    }
   ],
   "source": [
    "def add1(*args):\n",
    "    return sum(args)\n",
    "\n",
    "print(add1(1,2,3))\n",
    "print(add1(1,2,3,4))  # *args will take dynamic argument list. So add() function will perform addition of any number of arguments\n",
    "print(add1(1,2,3,4,5))\n",
    "print(add1(1,2,3,4,5,6))\n",
    "print(add1(1,2,3,4,5,6,7))"
   ]
  },
  {
   "cell_type": "code",
   "execution_count": 33,
   "metadata": {},
   "outputs": [
    {
     "data": {
      "text/plain": [
       "(28, 28)"
      ]
     },
     "execution_count": 33,
     "metadata": {},
     "output_type": "execute_result"
    }
   ],
   "source": [
    "#tuple & list items will be passed as argument list and sum will be returned for both cases.\n",
    "\n",
    "list1 = [1,2,3,4,5,6,7]\n",
    "tuple1 = (1,2,3,4,5,6,7)\n",
    "\n",
    "add1(*list1) , add1(*tuple1) "
   ]
  },
  {
   "cell_type": "code",
   "execution_count": 34,
   "metadata": {},
   "outputs": [
    {
     "data": {
      "text/plain": [
       "112"
      ]
     },
     "execution_count": 34,
     "metadata": {},
     "output_type": "execute_result"
    }
   ],
   "source": [
    "list1 = [1,2,3,4,5,6,7]\n",
    "list2 = [1,2,3,4,5,6,7]\n",
    "list3 = [1,2,3,4,5,6,7]\n",
    "list4 = [1,2,3,4,5,6,7]\n",
    "\n",
    "#All four lists are unpacked and each individual item is passed to add1() function\n",
    "\n",
    "add1(*list1 , *list2 , *list3 , *list4 ) "
   ]
  },
  {
   "cell_type": "code",
   "execution_count": 35,
   "metadata": {},
   "outputs": [
    {
     "name": "stdout",
     "output_type": "stream",
     "text": [
      "('Akash', 7412, 41102, 33, 'India', 'Hindi')\n"
     ]
    },
    {
     "data": {
      "text/plain": [
       "' For the above example we have no idea about the parameters passed e.g 7412 , 41102 , 33 etc.\\n    In such cases we can take help of Keyworded arguments (**kwargs) '"
      ]
     },
     "execution_count": 35,
     "metadata": {},
     "output_type": "execute_result"
    }
   ],
   "source": [
    "def UserDetails(*args):\n",
    "    print(args)\n",
    "\n",
    "UserDetails('Akash' , 7412 , 41102 , 33 ,  'India' , 'Hindi')\n",
    "\n",
    "''' For the above example we have no idea about the parameters passed e.g 7412 , 41102 , 33 etc.\n",
    "    In such cases we can take help of Keyworded arguments (**kwargs) '''"
   ]
  },
  {
   "cell_type": "code",
   "execution_count": 36,
   "metadata": {},
   "outputs": [
    {
     "name": "stdout",
     "output_type": "stream",
     "text": [
      "{'Name': 'Akash', 'ID': 7412, 'Pincode': 41102, 'Age': 33, 'Country': 'India', 'Language': 'Hindi'}\n"
     ]
    }
   ],
   "source": [
    "def UserDetails(**kwargs):\n",
    "    print(kwargs)\n",
    "\n",
    "UserDetails(Name='Akash' , ID=7412 , Pincode=41102 , Age= 33 ,  Country= 'India' , Language= 'Hindi')"
   ]
  },
  {
   "cell_type": "code",
   "execution_count": 37,
   "metadata": {},
   "outputs": [
    {
     "name": "stdout",
     "output_type": "stream",
     "text": [
      "Name :- Akash\n",
      "ID :- 7412\n",
      "Pincode :- 41102\n",
      "Age :- 33\n",
      "Country :- India\n",
      "Language :- Hindi\n"
     ]
    }
   ],
   "source": [
    "def UserDetails(**kwargs):\n",
    "    for key,val in kwargs.items():\n",
    "        print(\"{} :- {}\".format(key,val))\n",
    "\n",
    "UserDetails(Name='Akash' , ID=7412 , Pincode=41102 , Age= 33 ,  Country= 'India' , Language= 'Hindi')"
   ]
  },
  {
   "cell_type": "code",
   "execution_count": 38,
   "metadata": {},
   "outputs": [
    {
     "name": "stdout",
     "output_type": "stream",
     "text": [
      "Name :- Akash\n",
      "ID :- 7412\n",
      "Pincode :- 41102\n",
      "Age :- 33\n",
      "Country :- India\n",
      "Language :- Hindi\n"
     ]
    }
   ],
   "source": [
    "mydict = {'Name': 'Akash', 'ID': 7412, 'Pincode': 41102, 'Age': 33, 'Country': 'India', 'Language': 'Hindi'}\n",
    "\n",
    "UserDetails(**mydict)"
   ]
  },
  {
   "cell_type": "code",
   "execution_count": 41,
   "metadata": {},
   "outputs": [
    {
     "name": "stdout",
     "output_type": "stream",
     "text": [
      "License No :-  BHT145\n",
      "Full Name :- Akash Ajay Kale\n",
      "Phone Number:-  1234567890\n",
      "Name :- Akash\n",
      "ID :- 7412\n",
      "Pincode :- 41102\n",
      "Age :- 33\n",
      "Country :- India\n",
      "Language :- Hindi\n"
     ]
    }
   ],
   "source": [
    "def UserDetails(licenseNo,  *args , phoneNo=0 , **kwargs): # Using all four arguments types\n",
    "    print('License No :- ', licenseNo)\n",
    "    j=''\n",
    "    for i in args:\n",
    "        j = j+i\n",
    "    print('Full Name :-',j)\n",
    "    print('Phone Number:- ',phoneNo)\n",
    "    for key,val in kwargs.items():\n",
    "        print(\"{} :- {}\".format(key,val))\n",
    "        \n",
    "        \n",
    "name = ['Akash' , ' ' , 'Ajay' , ' ','Kale']\n",
    "mydict = {'Name': 'Akash', 'ID': 7412, 'Pincode': 41102, 'Age': 33, 'Country': 'India', 'Language': 'Hindi'}\n",
    "\n",
    "UserDetails('BHT145' , *name , phoneNo=1234567890,**mydict )"
   ]
  },
  {
   "cell_type": "code",
   "execution_count": 42,
   "metadata": {},
   "outputs": [],
   "source": [
    "def UserDetails(licenseNo, *args , phoneNo=0, **kwargs): # Using all four arguments types. CORRECT ORDER\n",
    "    print('Nothing')"
   ]
  },
  {
   "cell_type": "code",
   "execution_count": 43,
   "metadata": {},
   "outputs": [
    {
     "ename": "SyntaxError",
     "evalue": "arguments cannot follow var-keyword argument (3445089512.py, line 1)",
     "output_type": "error",
     "traceback": [
      "  \u001b[36mCell\u001b[39m\u001b[36m \u001b[39m\u001b[32mIn[43]\u001b[39m\u001b[32m, line 1\u001b[39m\n\u001b[31m    \u001b[39m\u001b[31mdef UserDetails(licenseNo, **kwargs , *args): # This will fail. *args MUST come before **kwargs in the argument list\u001b[39m\n                                          ^\n\u001b[31mSyntaxError\u001b[39m\u001b[31m:\u001b[39m arguments cannot follow var-keyword argument\n"
     ]
    }
   ],
   "source": [
    "def UserDetails(licenseNo, **kwargs , *args): # This will fail. *args MUST come before **kwargs in the argument list\n",
    "    print('Nothing')"
   ]
  },
  {
   "cell_type": "code",
   "execution_count": 44,
   "metadata": {},
   "outputs": [
    {
     "ename": "SyntaxError",
     "evalue": "parameter without a default follows parameter with a default (1930193288.py, line 2)",
     "output_type": "error",
     "traceback": [
      "  \u001b[36mCell\u001b[39m\u001b[36m \u001b[39m\u001b[32mIn[44]\u001b[39m\u001b[32m, line 2\u001b[39m\n\u001b[31m    \u001b[39m\u001b[31mdef UserDetails(ID = 1, licenseNo, *args):\u001b[39m\n                            ^\n\u001b[31mSyntaxError\u001b[39m\u001b[31m:\u001b[39m parameter without a default follows parameter with a default\n"
     ]
    }
   ],
   "source": [
    "#The below function will fail. Default argument/positional argument (licenseNo) MUST come before Keyword argument(ID)\n",
    "def UserDetails(ID = 1, licenseNo, *args):\n",
    "    print('Nothing')"
   ]
  },
  {
   "cell_type": "markdown",
   "metadata": {},
   "source": [
    "# Lambda, Filter, Map and Reduce\n",
    "\n",
    "Lambdas, filter, map, and reduce are some powerful functional programming tools in Python. \n"
   ]
  },
  {
   "cell_type": "markdown",
   "metadata": {},
   "source": [
    "__Filter__\n",
    "\n",
    "\n",
    "- It is used to filter the iterables/sequence as per the conditions. \n",
    "\n",
    "\n",
    "- Filter function filters the original iterable and passes the items that returns True for the function provided to filter. \n",
    "\n",
    "\n",
    "- It is normally used with Lambda functions to filter list, tuple, or sets.\n",
    "\n",
    "\n",
    "\n",
    "filter() method takes two parameters:\n",
    "\n",
    "- __function__ - function tests if elements of an iterable returns true or false\n",
    "\n",
    "- __iterable__ - Sequence which needs to be filtered, could be sets, lists, tuples, or any iterators\n",
    "\n",
    "\n",
    "\n",
    "\n",
    "__Syntax:__"
   ]
  },
  {
   "cell_type": "markdown",
   "metadata": {},
   "source": [
    "__Map__\n",
    "\n",
    "- The map() function applies a given function to each item of an iterable (list, tuple etc.) and returns a list of the results.\n",
    "\n",
    "\n",
    "\n",
    "\n",
    "map() function takes two Parameters :\n",
    "\n",
    "-   __function__ :  The function to execute for each item of given iterable.\n",
    "\n",
    "\n",
    "-   __iterable__ : It is a iterable which is to be mapped.\n",
    "\n",
    "\n",
    "__Returns__ : Returns a list of the results after applying the given function to each item of a given iterable (list, tuple etc.)\n",
    "\n",
    "__Syntax:__"
   ]
  },
  {
   "cell_type": "markdown",
   "metadata": {},
   "source": [
    "__Reduce__\n",
    "\n",
    "- The reduce() function is defined in the __functools__ python module.The reduce() function receives two arguments, a function and an iterable. However, it doesn't return another iterable, instead it returns a single value.\n",
    "\n",
    "\n",
    "__Syntax:__"
   ]
  },
  {
   "cell_type": "code",
   "execution_count": 47,
   "metadata": {},
   "outputs": [
    {
     "name": "stdout",
     "output_type": "stream",
     "text": [
      "15\n"
     ]
    }
   ],
   "source": [
    "# Here’s how to use a lambda function to add 10 to a number\n",
    "\n",
    "addition = lambda a : a + 10  \n",
    "print(addition(5))"
   ]
  },
  {
   "cell_type": "code",
   "execution_count": 48,
   "metadata": {},
   "outputs": [
    {
     "name": "stdout",
     "output_type": "stream",
     "text": [
      "30\n"
     ]
    }
   ],
   "source": [
    "##This lambda function takes two arguments (a,b) and returns their product (a*b).\n",
    "\n",
    "product = lambda a, b : a * b \n",
    "print(product(5, 6))"
   ]
  },
  {
   "cell_type": "code",
   "execution_count": 49,
   "metadata": {},
   "outputs": [
    {
     "name": "stdout",
     "output_type": "stream",
     "text": [
      "13\n"
     ]
    }
   ],
   "source": [
    "#This lambda function takes three arguments (a,b,c) and returns their sum (a+b+c).\n",
    "\n",
    "addition = lambda a, b, c : a + b + c  \n",
    "print(addition(5, 6, 2))"
   ]
  },
  {
   "cell_type": "code",
   "execution_count": 50,
   "metadata": {},
   "outputs": [
    {
     "data": {
      "text/plain": [
       "(30, 100, 280)"
      ]
     },
     "execution_count": 50,
     "metadata": {},
     "output_type": "execute_result"
    }
   ],
   "source": [
    "## This lambda function can take any number of arguments and return thier sum.\n",
    "\n",
    "res = (lambda *args: sum(args))  \n",
    "res(10,20) , res(10,20,30,40) ,  res(10,20,30,40,50,60,70)"
   ]
  },
  {
   "cell_type": "code",
   "execution_count": 51,
   "metadata": {},
   "outputs": [
    {
     "data": {
      "text/plain": [
       "(60, 150)"
      ]
     },
     "execution_count": 51,
     "metadata": {},
     "output_type": "execute_result"
    }
   ],
   "source": [
    "# This lambda function can take any number of arguments and return thier sum.\n",
    "\n",
    "res1 = (lambda **kwargs: sum(kwargs.values())) \n",
    "res1(a = 10 , b= 20 , c = 30) , res1(a = 10 , b= 20 , c = 30, d = 40 , e = 50)"
   ]
  },
  {
   "cell_type": "code",
   "execution_count": 53,
   "metadata": {},
   "outputs": [
    {
     "data": {
      "text/plain": [
       "(6000, 12000000)"
      ]
     },
     "execution_count": 53,
     "metadata": {},
     "output_type": "execute_result"
    }
   ],
   "source": [
    "# User defined function to find product of numbers\n",
    "def product(nums):  \n",
    "    total = 1\n",
    "    for i in nums:\n",
    "        total *= i  \n",
    "    return total\n",
    "\n",
    "# This lambda function can take any number of arguments and return thier product.\n",
    "res1 = (lambda **kwargs: product(kwargs.values())) \n",
    "res1(a = 10 , b= 20 , c = 30) , res1(a = 10 , b= 20 , c = 30, d = 40 , e = 50)"
   ]
  },
  {
   "cell_type": "code",
   "execution_count": 54,
   "metadata": {},
   "outputs": [
    {
     "name": "stdout",
     "output_type": "stream",
     "text": [
      "15\n",
      "25\n",
      "35\n"
     ]
    }
   ],
   "source": [
    "#returning function \n",
    "\n",
    "def myfunc(n):\n",
    "  return lambda a : a + n\n",
    "\n",
    "add10 = myfunc(10)\n",
    "add20 = myfunc(20)\n",
    "add30 = myfunc(30)\n",
    "\n",
    "print(add10(5))\n",
    "print(add20(5))\n",
    "print(add30(5))"
   ]
  },
  {
   "cell_type": "code",
   "execution_count": 55,
   "metadata": {},
   "outputs": [
    {
     "data": {
      "text/plain": [
       "[1, 3, 5, 7, 9]"
      ]
     },
     "execution_count": 55,
     "metadata": {},
     "output_type": "execute_result"
    }
   ],
   "source": [
    "list1 = [1,2,3,4,5,6,7,8,9]\n",
    "\n",
    "def odd(n):\n",
    "    if n%2 ==1: return True\n",
    "    else: return False\n",
    "    \n",
    "# This Filter function filters list1 and passes all odd numbers to filter().\n",
    "odd_num = list(filter(odd,list1)) \n",
    "odd_num"
   ]
  },
  {
   "cell_type": "code",
   "execution_count": 57,
   "metadata": {},
   "outputs": [
    {
     "data": {
      "text/plain": [
       "[1, 3, 5, 7, 9]"
      ]
     },
     "execution_count": 57,
     "metadata": {},
     "output_type": "execute_result"
    }
   ],
   "source": [
    "list1 = [1,2,3,4,5,6,7,8,9]\n",
    "# The below Filter function filters \"list1\" \n",
    "# and passes all odd numbers using lambda function to filter().\n",
    "odd_num = list(filter(lambda n: n%2 ==1 ,list1)) \n",
    "odd_num"
   ]
  },
  {
   "cell_type": "code",
   "execution_count": 58,
   "metadata": {},
   "outputs": [
    {
     "data": {
      "text/plain": [
       "[2, 6, 10, 14, 18]"
      ]
     },
     "execution_count": 58,
     "metadata": {},
     "output_type": "execute_result"
    }
   ],
   "source": [
    "def twice(n):\n",
    "    return n*2\n",
    "\n",
    "# The map function will apply user defined \"twice()\" function on all items of the list\n",
    "doubles = list(map(twice,odd_num)) \n",
    "doubles"
   ]
  },
  {
   "cell_type": "code",
   "execution_count": 59,
   "metadata": {},
   "outputs": [
    {
     "data": {
      "text/plain": [
       "[2, 6, 10, 14, 18]"
      ]
     },
     "execution_count": 59,
     "metadata": {},
     "output_type": "execute_result"
    }
   ],
   "source": [
    "doubles = list(map(lambda n:n*2,odd_num)) \n",
    "# This map function will double all items of the list using lambda function.\n",
    "doubles"
   ]
  },
  {
   "cell_type": "code",
   "execution_count": 60,
   "metadata": {},
   "outputs": [
    {
     "data": {
      "text/plain": [
       "50"
      ]
     },
     "execution_count": 60,
     "metadata": {},
     "output_type": "execute_result"
    }
   ],
   "source": [
    "from functools import reduce\n",
    "\n",
    "def add(a,b):\n",
    "    return a+b\n",
    "\n",
    "# This reduce function will perform sum of all items in the list using user defined \"add()\" func.\n",
    "sum_all = reduce(add,doubles) \n",
    "sum_all"
   ]
  },
  {
   "cell_type": "code",
   "execution_count": 61,
   "metadata": {},
   "outputs": [
    {
     "data": {
      "text/plain": [
       "50"
      ]
     },
     "execution_count": 61,
     "metadata": {},
     "output_type": "execute_result"
    }
   ],
   "source": [
    "#The below reduce() function will perform sum of all items in the list using lambda function.\n",
    "\n",
    "sum_all = reduce(lambda a,b : a+b,doubles)\n",
    "sum_all"
   ]
  },
  {
   "cell_type": "code",
   "execution_count": 5,
   "metadata": {},
   "outputs": [
    {
     "data": {
      "text/plain": [
       "50"
      ]
     },
     "execution_count": 5,
     "metadata": {},
     "output_type": "execute_result"
    }
   ],
   "source": [
    "# Putting all together \n",
    "\n",
    "sum_all = reduce(lambda a,b : a+b,list(map(lambda n:n*2,list(filter(lambda n: n%2 ==1 ,list1)))))\n",
    "sum_all"
   ]
  },
  {
   "cell_type": "markdown",
   "metadata": {},
   "source": [
    "## Docstrings"
   ]
  },
  {
   "cell_type": "markdown",
   "metadata": {},
   "source": [
    "1) Docstrings provide a convenient way of associating documentation with functions, classes, methods or modules. \n",
    "\n",
    "2) They appear right after the definition of a function, method, class, or module."
   ]
  },
  {
   "cell_type": "code",
   "execution_count": 62,
   "metadata": {},
   "outputs": [],
   "source": [
    "def square(num):\n",
    "    '''Square Function :- This function will return the square of a number'''\n",
    "    return num**2"
   ]
  },
  {
   "cell_type": "code",
   "execution_count": 63,
   "metadata": {},
   "outputs": [
    {
     "data": {
      "text/plain": [
       "4"
      ]
     },
     "execution_count": 63,
     "metadata": {},
     "output_type": "execute_result"
    }
   ],
   "source": [
    "square(2)"
   ]
  },
  {
   "cell_type": "code",
   "execution_count": 64,
   "metadata": {},
   "outputs": [
    {
     "data": {
      "text/plain": [
       "'Square Function :- This function will return the square of a number'"
      ]
     },
     "execution_count": 64,
     "metadata": {},
     "output_type": "execute_result"
    }
   ],
   "source": [
    "square.__doc__  # We can access the Docstring using __doc__ method"
   ]
  },
  {
   "cell_type": "code",
   "execution_count": 65,
   "metadata": {},
   "outputs": [],
   "source": [
    "def evenodd(num):\n",
    "    '''evenodd Function :- This function will test whether a numbr is Even or Odd'''\n",
    "    if num % 2 == 0:\n",
    "        print(\"Even Number\")\n",
    "    else:\n",
    "        print(\"Odd Number\")"
   ]
  },
  {
   "cell_type": "code",
   "execution_count": 66,
   "metadata": {},
   "outputs": [
    {
     "name": "stdout",
     "output_type": "stream",
     "text": [
      "Odd Number\n"
     ]
    }
   ],
   "source": [
    "evenodd(3)"
   ]
  },
  {
   "cell_type": "code",
   "execution_count": 67,
   "metadata": {},
   "outputs": [
    {
     "name": "stdout",
     "output_type": "stream",
     "text": [
      "Even Number\n"
     ]
    }
   ],
   "source": [
    "evenodd(2)"
   ]
  },
  {
   "cell_type": "code",
   "execution_count": 68,
   "metadata": {},
   "outputs": [
    {
     "data": {
      "text/plain": [
       "'evenodd Function :- This function will test whether a numbr is Even or Odd'"
      ]
     },
     "execution_count": 68,
     "metadata": {},
     "output_type": "execute_result"
    }
   ],
   "source": [
    "evenodd.__doc__"
   ]
  }
 ],
 "metadata": {
  "kernelspec": {
   "display_name": "Python 3 (ipykernel)",
   "language": "python",
   "name": "python3"
  },
  "language_info": {
   "codemirror_mode": {
    "name": "ipython",
    "version": 3
   },
   "file_extension": ".py",
   "mimetype": "text/x-python",
   "name": "python",
   "nbconvert_exporter": "python",
   "pygments_lexer": "ipython3",
   "version": "3.13.7"
  }
 },
 "nbformat": 4,
 "nbformat_minor": 4
}
